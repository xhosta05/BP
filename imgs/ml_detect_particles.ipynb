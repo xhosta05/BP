{
 "cells": [
  {
   "cell_type": "code",
   "execution_count": 1,
   "metadata": {},
   "outputs": [
    {
     "name": "stdout",
     "output_type": "stream",
     "text": [
      "available devices: 0\n",
      "cuda is available: False\n",
      "/home/xhosta/anaconda3/bin/python\r\n"
     ]
    }
   ],
   "source": [
    "# %pip install torch\n",
    "# %pip install torchsummary\n",
    "\n",
    "import torch\n",
    "# from torchsummary import summary\n",
    "\n",
    "print(f'available devices: {torch.cuda.device_count()}')\n",
    "print(f'cuda is available: {torch.cuda.is_available()}')\n",
    "!which python\n",
    "device = torch.device(\"cuda:0\" if torch.cuda.is_available() else \"cpu\")\n"
   ]
  },
  {
   "cell_type": "code",
   "execution_count": 3,
   "metadata": {},
   "outputs": [
    {
     "name": "stdout",
     "output_type": "stream",
     "text": [
      "Looking in indexes: https://pypi.org/simple, https://pypi.ngc.nvidia.com\n",
      "Requirement already satisfied: imutils in /home/xhosta/anaconda3/lib/python3.9/site-packages (0.5.4)\n",
      "\n",
      "\u001b[1m[\u001b[0m\u001b[34;49mnotice\u001b[0m\u001b[1;39;49m]\u001b[0m\u001b[39;49m A new release of pip is available: \u001b[0m\u001b[31;49m23.0.1\u001b[0m\u001b[39;49m -> \u001b[0m\u001b[32;49m23.1.2\u001b[0m\n",
      "\u001b[1m[\u001b[0m\u001b[34;49mnotice\u001b[0m\u001b[1;39;49m]\u001b[0m\u001b[39;49m To update, run: \u001b[0m\u001b[32;49mpip install --upgrade pip\u001b[0m\n",
      "Note: you may need to restart the kernel to use updated packages.\n"
     ]
    }
   ],
   "source": [
    "%pip install imutils\n",
    "\n",
    "import os\n",
    "import re\n",
    "import cv2\n",
    "\n",
    "import math\n",
    "import  importlib # for refreshing import(nets.py)\n",
    "import numpy as np\n",
    "import matplotlib.pyplot as plt\n",
    "\n",
    "# generate\n",
    "from imutils import rotate_bound\n",
    "from math import ceil\n",
    "from random import randint, shuffle\n",
    "\n",
    "# files\n",
    "import utils \n",
    "import nets \n",
    "import dataset "
   ]
  },
  {
   "cell_type": "code",
   "execution_count": 14,
   "metadata": {
    "colab": {
     "base_uri": "https://localhost:8080/",
     "height": 575
    },
    "id": "jCCu52vDHX0J",
    "outputId": "72edac9d-d7fd-4504-83bd-f639077f17df"
   },
   "outputs": [
    {
     "name": "stdout",
     "output_type": "stream",
     "text": [
      "450\n",
      "450\n",
      "0\n",
      "0\n"
     ]
    }
   ],
   "source": [
    "# Load the dataset\n",
    "\n",
    "train_data_path= \"../../data/imgs/BPdata/test\"\n",
    "def getImgs(path):\n",
    "    IN_paths=[]\n",
    "    GT_paths=[]\n",
    "    gauss_paths=[]\n",
    "    salt_paths=[]\n",
    "    for root, dirs, files in os.walk(path):\n",
    "        for name in files:\n",
    "            path2file=os.path.join(root,name)\n",
    "            if re.findall('gauss.*\\.jpg', path2file):\n",
    "                gauss_paths.append(path2file)\n",
    "            if re.findall('salt.*\\.jpg', path2file):\n",
    "                salt_paths.append(path2file)\n",
    "            if re.findall('IN.*\\.jpg', path2file):\n",
    "                IN_paths.append(path2file)\n",
    "            if re.findall('.tif', path2file):\n",
    "                GT_paths.append(path2file)\n",
    "      # break\n",
    "    return IN_paths, GT_paths, gauss_paths, salt_paths\n",
    "\n",
    "IN_paths, GT_paths, gauss_paths, salt_paths= getImgs(train_data_path)\n",
    "            \n",
    "if not IN_paths:\n",
    "    print(\"err loading \",train_data_path)\n",
    "else:\n",
    "    print(len(IN_paths))\n",
    "    print(len(GT_paths))\n",
    "    print(len(gauss_paths))\n",
    "    print(len(salt_paths))"
   ]
  },
  {
   "cell_type": "code",
   "execution_count": 34,
   "metadata": {},
   "outputs": [
    {
     "name": "stdout",
     "output_type": "stream",
     "text": [
      "../../data/imgs/BPdata/test/IN/14particles_2.jpg\n",
      "(14, 8)\n"
     ]
    },
    {
     "data": {
      "image/png": "[encoded data removed]",
      "text/plain": [
       "<Figure size 432x288 with 1 Axes>"
      ]
     },
     "metadata": {
      "needs_background": "light"
     },
     "output_type": "display_data"
    },
    {
     "name": "stdout",
     "output_type": "stream",
     "text": [
      "0.97\n",
      "0.75\n",
      "0.97\n",
      "32.64\n",
      "836.50\n",
      "110.67\n",
      "17.14\n",
      "0.00\n"
     ]
    },
    {
     "data": {
      "image/png": "[encoded data removed]",
      "text/plain": [
       "<Figure size 432x288 with 1 Axes>"
      ]
     },
     "metadata": {
      "needs_background": "light"
     },
     "output_type": "display_data"
    },
    {
     "name": "stdout",
     "output_type": "stream",
     "text": [
      "0.99\n",
      "0.76\n",
      "0.98\n",
      "67.42\n",
      "3570.50\n",
      "230.75\n",
      "35.48\n",
      "0.00\n"
     ]
    },
    {
     "data": {
      "image/png": "[encoded data removed]",
      "text/plain": [
       "<Figure size 432x288 with 1 Axes>"
      ]
     },
     "metadata": {
      "needs_background": "light"
     },
     "output_type": "display_data"
    },
    {
     "name": "stdout",
     "output_type": "stream",
     "text": [
      "0.27\n",
      "0.23\n",
      "0.51\n",
      "24.20\n",
      "460.00\n",
      "168.57\n",
      "32.96\n",
      "0.00\n"
     ]
    },
    {
     "data": {
      "image/png": "[encoded data removed]",
      "text/plain": [
       "<Figure size 432x288 with 1 Axes>"
      ]
     },
     "metadata": {
      "needs_background": "light"
     },
     "output_type": "display_data"
    },
    {
     "name": "stdout",
     "output_type": "stream",
     "text": [
      "0.63\n",
      "0.72\n",
      "0.95\n",
      "21.54\n",
      "364.50\n",
      "76.87\n",
      "13.95\n",
      "0.00\n"
     ]
    },
    {
     "data": {
      "image/png": "[encoded data removed]",
      "text/plain": [
       "<Figure size 432x288 with 1 Axes>"
      ]
     },
     "metadata": {
      "needs_background": "light"
     },
     "output_type": "display_data"
    },
    {
     "name": "stdout",
     "output_type": "stream",
     "text": [
      "0.57\n",
      "0.62\n",
      "0.93\n",
      "23.70\n",
      "441.00\n",
      "88.43\n",
      "16.57\n",
      "0.00\n"
     ]
    },
    {
     "data": {
      "image/png": "[encoded data removed]",
      "text/plain": [
       "<Figure size 432x288 with 1 Axes>"
      ]
     },
     "metadata": {
      "needs_background": "light"
     },
     "output_type": "display_data"
    },
    {
     "name": "stdout",
     "output_type": "stream",
     "text": [
      "0.66\n",
      "0.69\n",
      "0.92\n",
      "29.77\n",
      "696.00\n",
      "117.25\n",
      "20.82\n",
      "0.00\n"
     ]
    },
    {
     "data": {
      "image/png": "[encoded data removed]",
      "text/plain": [
       "<Figure size 432x288 with 1 Axes>"
      ]
     },
     "metadata": {
      "needs_background": "light"
     },
     "output_type": "display_data"
    },
    {
     "name": "stdout",
     "output_type": "stream",
     "text": [
      "0.55\n",
      "0.59\n",
      "0.95\n",
      "18.66\n",
      "273.50\n",
      "67.36\n",
      "12.62\n",
      "0.00\n"
     ]
    },
    {
     "data": {
      "image/png": "[encoded data removed]",
      "text/plain": [
       "<Figure size 432x288 with 1 Axes>"
      ]
     },
     "metadata": {
      "needs_background": "light"
     },
     "output_type": "display_data"
    },
    {
     "name": "stdout",
     "output_type": "stream",
     "text": [
      "0.90\n",
      "0.77\n",
      "0.98\n",
      "28.12\n",
      "621.00\n",
      "94.77\n",
      "15.55\n",
      "0.00\n"
     ]
    },
    {
     "data": {
      "image/png": "[encoded data removed]",
      "text/plain": [
       "<Figure size 432x288 with 1 Axes>"
      ]
     },
     "metadata": {
      "needs_background": "light"
     },
     "output_type": "display_data"
    },
    {
     "name": "stdout",
     "output_type": "stream",
     "text": [
      "0.44\n",
      "0.61\n",
      "0.89\n",
      "27.12\n",
      "577.50\n",
      "108.67\n",
      "20.62\n",
      "0.00\n"
     ]
    },
    {
     "data": {
      "image/png": "[encoded data removed]",
      "text/plain": [
       "<Figure size 432x288 with 1 Axes>"
      ]
     },
     "metadata": {
      "needs_background": "light"
     },
     "output_type": "display_data"
    },
    {
     "name": "stdout",
     "output_type": "stream",
     "text": [
      "0.61\n",
      "0.54\n",
      "0.75\n",
      "41.64\n",
      "1361.50\n",
      "203.78\n",
      "30.40\n",
      "0.00\n"
     ]
    },
    {
     "data": {
      "image/png": "[encoded data removed]",
      "text/plain": [
       "<Figure size 432x288 with 1 Axes>"
      ]
     },
     "metadata": {
      "needs_background": "light"
     },
     "output_type": "display_data"
    },
    {
     "name": "stdout",
     "output_type": "stream",
     "text": [
      "0.88\n",
      "0.74\n",
      "0.97\n",
      "15.45\n",
      "187.50\n",
      "52.38\n",
      "8.76\n",
      "0.00\n"
     ]
    },
    {
     "data": {
      "image/png": "[encoded data removed]",
      "text/plain": [
       "<Figure size 432x288 with 1 Axes>"
      ]
     },
     "metadata": {
      "needs_background": "light"
     },
     "output_type": "display_data"
    },
    {
     "name": "stdout",
     "output_type": "stream",
     "text": [
      "0.93\n",
      "0.74\n",
      "0.97\n",
      "14.03\n",
      "154.50\n",
      "47.56\n",
      "8.06\n",
      "0.00\n"
     ]
    },
    {
     "data": {
      "image/png": "[encoded data removed]",
      "text/plain": [
       "<Figure size 432x288 with 1 Axes>"
      ]
     },
     "metadata": {
      "needs_background": "light"
     },
     "output_type": "display_data"
    },
    {
     "name": "stdout",
     "output_type": "stream",
     "text": [
      "0.89\n",
      "0.77\n",
      "0.98\n",
      "26.20\n",
      "539.00\n",
      "86.77\n",
      "14.59\n",
      "0.00\n"
     ]
    },
    {
     "data": {
      "image/png": "[encoded data removed]",
      "text/plain": [
       "<Figure size 432x288 with 1 Axes>"
      ]
     },
     "metadata": {
      "needs_background": "light"
     },
     "output_type": "display_data"
    },
    {
     "name": "stdout",
     "output_type": "stream",
     "text": [
      "0.20\n",
      "0.20\n",
      "0.72\n",
      "27.79\n",
      "606.50\n",
      "171.24\n",
      "37.17\n",
      "0.00\n"
     ]
    },
    {
     "data": {
      "image/png": "[encoded data removed]",
      "text/plain": [
       "<Figure size 432x288 with 1 Axes>"
      ]
     },
     "metadata": {
      "needs_background": "light"
     },
     "output_type": "display_data"
    },
    {
     "ename": "IndexError",
     "evalue": "index 14 is out of bounds for axis 0 with size 14",
     "output_type": "error",
     "traceback": [
      "\u001b[0;31m---------------------------------------------------------------------------\u001b[0m",
      "\u001b[0;31mIndexError\u001b[0m                                Traceback (most recent call last)",
      "\u001b[0;32m/tmp/ipykernel_17262/3852215633.py\u001b[0m in \u001b[0;36m<module>\u001b[0;34m\u001b[0m\n\u001b[1;32m     32\u001b[0m \u001b[0mplt\u001b[0m\u001b[0;34m.\u001b[0m\u001b[0mshow\u001b[0m\u001b[0;34m(\u001b[0m\u001b[0;34m)\u001b[0m\u001b[0;34m\u001b[0m\u001b[0;34m\u001b[0m\u001b[0m\n\u001b[1;32m     33\u001b[0m \u001b[0;32mfor\u001b[0m \u001b[0mi\u001b[0m\u001b[0;34m,\u001b[0m\u001b[0mim\u001b[0m \u001b[0;32min\u001b[0m \u001b[0menumerate\u001b[0m\u001b[0;34m(\u001b[0m\u001b[0mcontImgs\u001b[0m\u001b[0;34m)\u001b[0m\u001b[0;34m:\u001b[0m\u001b[0;34m\u001b[0m\u001b[0;34m\u001b[0m\u001b[0m\n\u001b[0;32m---> 34\u001b[0;31m     \u001b[0;34m[\u001b[0m\u001b[0mprint\u001b[0m\u001b[0;34m(\u001b[0m\u001b[0;34m\"{:.2f}\"\u001b[0m\u001b[0;34m.\u001b[0m\u001b[0mformat\u001b[0m\u001b[0;34m(\u001b[0m\u001b[0mz\u001b[0m\u001b[0;34m)\u001b[0m\u001b[0;34m)\u001b[0m \u001b[0;32mfor\u001b[0m \u001b[0mz\u001b[0m \u001b[0;32min\u001b[0m \u001b[0mcvs0\u001b[0m\u001b[0;34m[\u001b[0m\u001b[0mi\u001b[0m\u001b[0;34m]\u001b[0m\u001b[0;34m]\u001b[0m\u001b[0;34m\u001b[0m\u001b[0;34m\u001b[0m\u001b[0m\n\u001b[0m\u001b[1;32m     35\u001b[0m     \u001b[0mplt\u001b[0m\u001b[0;34m.\u001b[0m\u001b[0mimshow\u001b[0m\u001b[0;34m(\u001b[0m\u001b[0mim\u001b[0m\u001b[0;34m)\u001b[0m\u001b[0;34m\u001b[0m\u001b[0;34m\u001b[0m\u001b[0m\n\u001b[1;32m     36\u001b[0m     \u001b[0mplt\u001b[0m\u001b[0;34m.\u001b[0m\u001b[0mshow\u001b[0m\u001b[0;34m(\u001b[0m\u001b[0;34m)\u001b[0m\u001b[0;34m\u001b[0m\u001b[0;34m\u001b[0m\u001b[0m\n",
      "\u001b[0;31mIndexError\u001b[0m: index 14 is out of bounds for axis 0 with size 14"
     ]
    }
   ],
   "source": [
    "importlib.reload(utils)\n",
    "\n",
    "def featuresFromImage(image):\n",
    "    featuresArray = []\n",
    "#     contImgs=[]\n",
    "    imageMask = utils.getMask(image,threshold=100,kernelSize=5) \n",
    "    contours = cv2.findContours(imageMask, cv2.RETR_CCOMP, cv2.CHAIN_APPROX_NONE) # img, contours, hierarchy\n",
    "\n",
    "    labelsCount, _, values, centroids=  cv2.connectedComponentsWithStats(imageMask) \n",
    "#     print(labelsCount, values.shape, centroids.shape)\n",
    "    contoursImg = np.zeros(image.shape, dtype=np.uint8)\n",
    "    trainFeatures= []\n",
    "\n",
    "    for i,cnt in enumerate(contours[0]): # iterate through contours\n",
    "#         if  i > 0:  # skip background (and small dust cv2.arcLength(contour, closed=True) < 50)\n",
    "            contour = cnt.squeeze()\n",
    "\n",
    "            features = utils.extractFeaturesFromContour(contour)\n",
    "            contoursImg=np.zeros(contoursImg.shape,dtype=np.uint8)\n",
    "#             contoursImg = cv2.drawContours(contoursImg, contours[0],i,(255,0,0), thickness=cv2.FILLED)\n",
    "            featuresArray.append(features)\n",
    "            contImgs.append(contoursImg)\n",
    "    return np.array(featuresArray)#, contImgs\n",
    "\n",
    "idx=3\n",
    "image  = cv2.imread(IN_paths[idx])\n",
    "cvs0= featuresFromImage(image)\n",
    "print( IN_paths[idx])\n",
    "print( cvs0.shape)\n",
    "\n",
    "plt.imshow(image)\n",
    "plt.show()\n",
    "for i,im in enumerate(contImgs):\n",
    "    [print(\"{:.2f}\".format(z)) for z in cvs0[i]]\n",
    "    plt.imshow(im)\n",
    "    plt.show()\n",
    "# plot_intensity_histogram(image) \n",
    "#     area = cv2.contourArea(contour)\n",
    "#     cntLen = cv2.arcLength(contour, closed=True)\n",
    "#     _,radius = cv2.minEnclosingCircle(contour)\n",
    "#     _,_,wBB,hBB = cv2.boundingRect(contour)\n",
    "#     k = cv2.isContourConvex(contour)\n",
    "\n",
    "#     rectMinRatio  # height & width of min rectangle\n",
    "#     extent # cnt area / BBox area\n",
    "#     solidity # cnt area / k hull area\n",
    "#     equi_diameter # diameter of a circle with the same\n",
    "# ([rectMinRatio, extent, solidity, equi_diameter, area, cntLen, radius, k]"
   ]
  },
  {
   "cell_type": "code",
   "execution_count": 18,
   "metadata": {
    "scrolled": false
   },
   "outputs": [
    {
     "data": {
      "image/png": "[encoded data removed]",
      "text/plain": [
       "<Figure size 432x288 with 1 Axes>"
      ]
     },
     "metadata": {
      "needs_background": "light"
     },
     "output_type": "display_data"
    },
    {
     "name": "stdout",
     "output_type": "stream",
     "text": [
      "39\n",
      "(1080, 1920)\n"
     ]
    }
   ],
   "source": [
    "image = cv2.imread(wafer_img_paths[0])\n",
    "imageMask = utils.getMask(image,threshold=100,kernelSize=5) \n",
    "# listContours = markContours(imageMask) \n",
    "imgContours = utils.img2segmented(imageMask)\n",
    "\n",
    "plt.imshow(imgContours)\n",
    "plt.show()\n",
    "a=np.unique(imgContours)\n",
    "print(len(a))\n",
    "print(imgContours.shape)\n",
    "# TODO check 32.jpg"
   ]
  },
  {
   "cell_type": "code",
   "execution_count": 19,
   "metadata": {},
   "outputs": [
    {
     "name": "stdout",
     "output_type": "stream",
     "text": [
      "model input shape: (1088, 1920, 3)\n",
      "model GT shape: (1088, 1920)\n"
     ]
    }
   ],
   "source": [
    "\n",
    "importlib.reload(nets)\n",
    "importlib.reload(utils)\n",
    "\n",
    "batch_size=2\n",
    "ds=[]\n",
    "targets=[]\n",
    "weights=[]\n",
    "for idx, img in enumerate(wafer_img_paths):\n",
    "    if idx >= batch_size:\n",
    "        break\n",
    "        \n",
    "    image = cv2.imread(img)\n",
    "    image = cv2.resize(image, dsize=( 1920,1088), interpolation=cv2.INTER_CUBIC)\n",
    "    imgContoursBinary = utils.getMask(image,threshold=100,kernelSize=5)\n",
    "    imgContoursSlices = np.array(utils.markContours(imgContoursBinary))\n",
    "#     imgContours = img2segmented(getMask(image,threshold=100,kernelSize=5) )\n",
    "    weightImg= utils.distanceMap(imgContoursBinary)\n",
    "    \n",
    "    ds.append(image)\n",
    "    targets.append(imgContoursBinary) # imgContours\n",
    "    weights.append(weightImg)\n",
    "dataS=np.array(ds)\n",
    "targetS=np.array(targets)\n",
    "weightS=np.array(targets)\n",
    "\n",
    "print(\"model input shape:\",dataS[0].shape)\n",
    "print(\"model GT shape:\",targetS[0].shape)"
   ]
  },
  {
   "cell_type": "code",
   "execution_count": 20,
   "metadata": {
    "scrolled": true
   },
   "outputs": [
    {
     "name": "stderr",
     "output_type": "stream",
     "text": [
      "/home/dell/.local/lib/python3.9/site-packages/torch/cuda/amp/grad_scaler.py:120: UserWarning: torch.cuda.amp.GradScaler is enabled, but CUDA is not available.  Disabling.\n",
      "  warnings.warn(\"torch.cuda.amp.GradScaler is enabled, but CUDA is not available.  Disabling.\")\n",
      "/home/dell/.local/lib/python3.9/site-packages/torch/amp/autocast_mode.py:204: UserWarning: User provided device_type of 'cuda', but CUDA is not available. Disabling\n",
      "  warnings.warn('User provided device_type of \\'cuda\\', but CUDA is not available. Disabling')\n"
     ]
    },
    {
     "name": "stdout",
     "output_type": "stream",
     "text": [
      "torch.Size([2, 1, 1088, 1920])\n",
      "[1] loss: 0.000\n",
      "[2] loss: 0.000\n"
     ]
    }
   ],
   "source": [
    "import torch.optim as optim\n",
    "from torch.cuda.amp import autocast, GradScaler\n",
    "\n",
    "importlib.reload(nets)\n",
    "importlib.reload(dataset)\n",
    "\n",
    "# activation_fn = nn.Softmax\n",
    "batch_size = 2\n",
    "epochs = 2\n",
    "\n",
    "model = nets.UNet(\n",
    "    enc_chs=(3,8,16),\n",
    "    dec_chs=(16,8),\n",
    "    num_class=1,\n",
    "    retain_dim=True,\n",
    "    out_sz=(1088, 1920)\n",
    ").to(device)\n",
    "model.load_state_dict(torch.load(\"./model_0_3gauss_focal.pt\"))\n",
    "model.train() # model.eval()\n",
    "\n",
    "optimizer = optim.Adam(model.parameters())\n",
    "# criterion = torch.nn.CrossEntropyLoss()# torch.nn.MSELoss()    #torch.nn.CrossEntropyLoss() #    \n",
    "# criterion = # FocalLoss() #FocalTverskyLoss()\n",
    "criterion = FocalLoss()\n",
    "\n",
    "scaler = GradScaler()\n",
    "# summary(model, (3, 1080 , 1920))\n"
   ]
  },
  {
   "cell_type": "code",
   "execution_count": null,
   "metadata": {},
   "outputs": [],
   "source": []
  },
  {
   "cell_type": "code",
   "execution_count": 21,
   "metadata": {},
   "outputs": [
    {
     "data": {
      "image/png": "[encoded data removed]",
      "text/plain": [
       "<Figure size 960x480 with 1 Axes>"
      ]
     },
     "metadata": {
      "needs_background": "light"
     },
     "output_type": "display_data"
    },
    {
     "data": {
      "image/png": "[encoded data removed]",
      "text/plain": [
       "<Figure size 960x480 with 1 Axes>"
      ]
     },
     "metadata": {
      "needs_background": "light"
     },
     "output_type": "display_data"
    }
   ],
   "source": [
    "from matplotlib.pyplot import figure\n",
    "\n",
    "y= model(Dataset)\n",
    "predictions = y.cpu().detach().numpy()\n",
    "\n",
    "for i,im in enumerate(predictions):\n",
    "    img=cv2.cvtColor(im.squeeze(),cv2.COLOR_GRAY2RGB)\n",
    "    img = cv2.normalize(img, None, 0, 255, cv2.NORM_MINMAX, cv2.CV_8U)\n",
    "    \n",
    "    orig= np.array(Dataset[i].permute( 1, 2, 0))\n",
    "    orig = cv2.normalize(orig, None, 0, 255, cv2.NORM_MINMAX, cv2.CV_8U)\n",
    "    \n",
    "    gt = np.array(groundtruth[i]).squeeze()\n",
    "    gt =cv2.cvtColor(gt,cv2.COLOR_GRAY2RGB)\n",
    "    gt = cv2.normalize(gt, None, 0, 255, cv2.NORM_MINMAX, cv2.CV_8U)\n",
    "    \n",
    "    horiz = np.concatenate((orig,img,gt),axis=1)\n",
    "    \n",
    "    figure(figsize=(12, 6), dpi=80)\n",
    "    plt.imshow(horiz)\n",
    "    plt.show()"
   ]
  },
  {
   "cell_type": "code",
   "execution_count": null,
   "metadata": {},
   "outputs": [],
   "source": [
    "\n",
    "# TODO: the number of class labels was not specified correctly\n",
    "Dataset = torch.tensor(dataS/255, dtype = torch.float, device = device).permute(0, 3, 1, 2)\n",
    "Targets =  torch.tensor(targetS[:,None,:,:]/255, dtype = torch.float, device = device)\n",
    "# Weights =  torch.tensor(weightS[:,None,:,:]/255, dtype = torch.float, device = device)\n",
    "print(Targets.size())\n",
    "running_loss = 0.0\n",
    "for epoch in range(epochs):\n",
    "    inputs = Dataset\n",
    "    groundtruth = Targets\n",
    "\n",
    "    optimizer.zero_grad()\n",
    "    with autocast():\n",
    "        outputs = model(inputs)\n",
    "        loss = criterion( outputs, groundtruth)\n",
    "#         loss = torch.mean(loss * Weights)\n",
    "        \n",
    "    scaler.scale(loss).backward()\n",
    "    scaler.step(optimizer)\n",
    "    scaler.update()\n",
    "\n",
    "    # print statistics\n",
    "    running_loss += loss.item()\n",
    "    print(f'[{epoch + 1}] loss: {running_loss / 100:.3f}')\n",
    "    running_loss = 0.0\n"
   ]
  },
  {
   "cell_type": "code",
   "execution_count": null,
   "metadata": {},
   "outputs": [],
   "source": [
    "# print(train_data_path)\n",
    "# train_data_path =os.path.dirname(train_data_path)\n",
    "# GROUND_MASK_DIR_PATH = train_data_path\n",
    "# GROUND_MASK_DIR_PATH = os.path.join(os.path.dirname(train_data_path),\"GT\")\n"
   ]
  },
  {
   "cell_type": "code",
   "execution_count": null,
   "metadata": {},
   "outputs": [],
   "source": [
    "\n",
    "# class arrDataset:\n",
    "# #     normalize when loADING\n",
    "#   def __init__(self, data_points_count= 2047):    \n",
    "#     self.data_points_count= data_points_count\n",
    "#     self.data = np.zeros((0, data_points_count))   \n",
    "#     self.labels = np.zeros((0))\n",
    "#     self.classes = {}\n",
    "    \n",
    "#   def add_items(self, data, labels):\n",
    "#     data = data[:, 0:self.raman_points_count]\n",
    "#     self.data = np.concatenate((self.data, data))\n",
    "#     self.labels = np.concatenate((self.labels, labels))\n",
    "    \n",
    "#   def add_class(self, label, meas_class):\n",
    "#     self.classes[label] =   meas_class\n",
    "\n",
    "# def create_dataset(measurments,label, label_class):\n",
    "#   dataset=Dataset()\n",
    "#   measurments = [i for i in measurments if i is not None]\n",
    "  \n",
    "#   dataset.add_class(label, label_class)\n",
    "  \n",
    "#   for measurment in measurments:\n",
    "#       dataset.add_items(np.array(measurment[None,:]),np.array([label]))\n",
    "        \n",
    "# #   print(dataset.get_data_shape())\n",
    "#   return dataset"
   ]
  },
  {
   "cell_type": "code",
   "execution_count": null,
   "metadata": {},
   "outputs": [],
   "source": [
    "\n",
    "#         if re.findall('.jpg$', imgPath)  :\n",
    "#             path,ext  = os.path.splitext(imgPath)\n",
    "#             file = os.path.basename(path)\n",
    "#             dirPath = os.path.dirname(path)\n",
    "\n",
    "#loss type                 input  target\n",
    "#nn.MSELoss()              float, float\n",
    "#nn.CrossEntropyLoss()     float, float "
   ]
  },
  {
   "cell_type": "code",
   "execution_count": null,
   "metadata": {},
   "outputs": [],
   "source": [
    "for parameter in model.parameters():\n",
    "    print(parameter)"
   ]
  }
 ],
 "metadata": {
  "colab": {
   "provenance": []
  },
  "kernelspec": {
   "display_name": "Python 3 (ipykernel)",
   "language": "python",
   "name": "python3"
  },
  "language_info": {
   "codemirror_mode": {
    "name": "ipython",
    "version": 3
   },
   "file_extension": ".py",
   "mimetype": "text/x-python",
   "name": "python",
   "nbconvert_exporter": "python",
   "pygments_lexer": "ipython3",
   "version": "3.9.7"
  }
 },
 "nbformat": 4,
 "nbformat_minor": 1
}
