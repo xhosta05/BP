{
 "cells": [
  {
   "cell_type": "code",
   "execution_count": 2,
   "metadata": {},
   "outputs": [
    {
     "name": "stdout",
     "output_type": "stream",
     "text": [
      "available devices: 1\n",
      "cuda is available: True\n",
      "/home/kristina/miniconda3/bin/python\r\n"
     ]
    }
   ],
   "source": [
    "# %pip install torch\n",
    "# %pip install torchsummary\n",
    "\n",
    "import torch\n",
    "# from torchsummary import summary\n",
    "\n",
    "print(f'available devices: {torch.cuda.device_count()}')\n",
    "print(f'cuda is available: {torch.cuda.is_available()}')\n",
    "!which python\n",
    "device = torch.device(\"cuda:0\" if torch.cuda.is_available() else \"cpu\")\n"
   ]
  },
  {
   "cell_type": "code",
   "execution_count": 3,
   "metadata": {},
   "outputs": [
    {
     "name": "stdout",
     "output_type": "stream",
     "text": [
      "Defaulting to user installation because normal site-packages is not writeable\n",
      "Looking in indexes: https://pypi.org/simple, https://pypi.ngc.nvidia.com\n",
      "Requirement already satisfied: imutils in /home/kristina/.local/lib/python3.10/site-packages (0.5.4)\n",
      "Note: you may need to restart the kernel to use updated packages.\n"
     ]
    }
   ],
   "source": [
    "%pip install imutils\n",
    "\n",
    "import os\n",
    "import re\n",
    "import cv2\n",
    "\n",
    "import math\n",
    "import  importlib # for refreshing import(nets.py)\n",
    "import numpy as np\n",
    "import matplotlib.pyplot as plt\n",
    "\n",
    "# generate\n",
    "from imutils import rotate_bound\n",
    "from math import ceil\n",
    "from random import randint, shuffle\n",
    "\n",
    "# files\n",
    "import utils \n",
    "import nets \n",
    "import dataset "
   ]
  },
  {
   "cell_type": "code",
   "execution_count": 4,
   "metadata": {
    "colab": {
     "base_uri": "https://localhost:8080/",
     "height": 575
    },
    "id": "jCCu52vDHX0J",
    "outputId": "72edac9d-d7fd-4504-83bd-f639077f17df"
   },
   "outputs": [
    {
     "name": "stdout",
     "output_type": "stream",
     "text": [
      "101\n"
     ]
    }
   ],
   "source": [
    "# Load the dataset\n",
    "\n",
    "train_data_path= \"../../data/imgs/wafer/in/\"\n",
    "wafer_img_paths=[]\n",
    "for root, dirs, files in os.walk(train_data_path):\n",
    "    for name in files:\n",
    "        if re.findall('.jpg', name):\n",
    "            wafer_img_paths.append(root+name)\n",
    "    break\n",
    "            \n",
    "if not wafer_img_paths:\n",
    "    print(\"err loading \",train_data_path)\n",
    "else:\n",
    "    print(len(wafer_img_paths))"
   ]
  },
  {
   "cell_type": "code",
   "execution_count": 68,
   "metadata": {},
   "outputs": [
    {
     "name": "stdout",
     "output_type": "stream",
     "text": [
      "45 (45, 5) (45, 2)\n",
      "(8,)\n"
     ]
    }
   ],
   "source": [
    "image = cv2.imread(wafer_img_paths[0])\n",
    "imageMask = utils.getMask(image,threshold=100,kernelSize=5) \n",
    "contours = cv2.findContours(imageMask, cv2.RETR_CCOMP, cv2.CHAIN_APPROX_NONE) # img, contours, hierarchy\n",
    "\n",
    "labelsCount, _, values, centroids=  cv2.connectedComponentsWithStats(imageMask) \n",
    "print(labelsCount, values.shape, centroids.shape)\n",
    "contoursImg = np.zeros(image.shape, dtype=np.uint8)\n",
    "trainFeatures= []\n",
    "\n",
    "for i,cnt in enumerate(contours[0]): # iterate through contours\n",
    "    if  i > 0:  # skip background (and small dust cv2.arcLength(contour, closed=True) < 50)\n",
    "        contour = cnt.squeeze()\n",
    "        \n",
    "        features = extractFeaturesFromContour(contuour)\n",
    "        contoursImg = cv2.drawContours(contoursImg, contours[0],i,(255,255,255), thickness=cv2.FILLED)\n",
    "\n",
    "        print( features.shape)\n",
    "        break\n",
    "\n",
    "# plot_intensity_histogram(image) "
   ]
  },
  {
   "cell_type": "code",
   "execution_count": null,
   "metadata": {
    "scrolled": false
   },
   "outputs": [],
   "source": [
    "image = cv2.imread(wafer_img_paths[0])\n",
    "imageMask = utils.getMask(image,threshold=100,kernelSize=5) \n",
    "# listContours = markContours(imageMask) \n",
    "imgContours = utils.img2segmented(imageMask)\n",
    "\n",
    "plt.imshow(imgContours)\n",
    "plt.show()\n",
    "a=np.unique(imgContours)\n",
    "print(len(a))\n",
    "print(imgContours.shape)\n",
    "# TODO check 32.jpg"
   ]
  },
  {
   "cell_type": "code",
   "execution_count": null,
   "metadata": {},
   "outputs": [],
   "source": [
    "importlib.reload(nets)\n",
    "importlib.reload(utils)\n",
    "\n",
    "batch_size=2\n",
    "ds=[]\n",
    "targets=[]\n",
    "weights=[]\n",
    "for idx, img in enumerate(wafer_img_paths):\n",
    "    if idx >= batch_size:\n",
    "        break\n",
    "        \n",
    "    image = cv2.imread(img)\n",
    "    image = cv2.resize(image, dsize=( 1920,1088), interpolation=cv2.INTER_CUBIC)\n",
    "    imgContoursBinary = utils.getMask(image,threshold=100,kernelSize=5)\n",
    "    imgContoursSlices = np.array(utils.markContours(imgContoursBinary))\n",
    "#     imgContours = img2segmented(getMask(image,threshold=100,kernelSize=5) )\n",
    "    weightImg= utils.distanceMap(imgContoursBinary)\n",
    "    \n",
    "    ds.append(image)\n",
    "    targets.append(imgContoursBinary) # imgContours\n",
    "    weights.append(weightImg)\n",
    "dataS=np.array(ds)\n",
    "targetS=np.array(targets)\n",
    "weightS=np.array(targets)\n",
    "\n",
    "print(\"model input shape:\",dataS[0].shape)\n",
    "print(\"model GT shape:\",targetS[0].shape)"
   ]
  },
  {
   "cell_type": "code",
   "execution_count": null,
   "metadata": {
    "scrolled": true
   },
   "outputs": [],
   "source": [
    "import torch.optim as optim\n",
    "from torch.cuda.amp import autocast, GradScaler\n",
    "\n",
    "importlib.reload(nets)\n",
    "importlib.reload(dataset)\n",
    "\n",
    "# activation_fn = nn.Softmax\n",
    "batch_size = 2\n",
    "epochs = 2\n",
    "\n",
    "model = nets.UNet(\n",
    "    enc_chs=(3,8,16),\n",
    "    dec_chs=(16,8),\n",
    "    num_class=1,\n",
    "    retain_dim=True,\n",
    "    out_sz=(1088, 1920)\n",
    ").to(device)\n",
    "optimizer = optim.Adam(model.parameters())\n",
    "criterion = torch.nn.CrossEntropyLoss()# torch.nn.MSELoss()    #torch.nn.CrossEntropyLoss() #    \n",
    "# loss = nn.CrossEntropyLoss(reduction='none')(output, target)\n",
    "scaler = GradScaler()\n",
    "# summary(model, (3, 1080 , 1920))\n",
    "\n",
    "# TODO: the number of class labels was not specified correctly\n",
    "Dataset = torch.tensor(dataS/255, dtype = torch.float, device = device).permute(0, 3, 1, 2)\n",
    "Targets =  torch.tensor(targetS[:,None,:,:]/255, dtype = torch.float, device = device)\n",
    "# Weights =  torch.tensor(weightS[:,None,:,:]/255, dtype = torch.float, device = device)\n",
    "print(Targets.size())\n",
    "running_loss = 0.0\n",
    "for epoch in range(epochs):\n",
    "    inputs = Dataset\n",
    "    groundtruth = Targets\n",
    "\n",
    "    optimizer.zero_grad()\n",
    "    with autocast():\n",
    "        outputs = model(inputs)\n",
    "        loss = criterion( outputs, groundtruth)\n",
    "#         loss = torch.mean(loss * Weights)\n",
    "        \n",
    "    scaler.scale(loss).backward()\n",
    "    scaler.step(optimizer)\n",
    "    scaler.update()\n",
    "\n",
    "    # print statistics\n",
    "    running_loss += loss.item()\n",
    "    print(f'[{epoch + 1}] loss: {running_loss / 100:.3f}')\n",
    "    running_loss = 0.0\n"
   ]
  },
  {
   "cell_type": "code",
   "execution_count": null,
   "metadata": {},
   "outputs": [],
   "source": [
    "from matplotlib.pyplot import figure\n",
    "\n",
    "y= model(Dataset)\n",
    "predictions = y.cpu().detach().numpy()\n",
    "\n",
    "for i,im in enumerate(predictions):\n",
    "    img=cv2.cvtColor(im.squeeze(),cv2.COLOR_GRAY2RGB)\n",
    "    img = cv2.normalize(img, None, 0, 255, cv2.NORM_MINMAX, cv2.CV_8U)\n",
    "    \n",
    "    orig= np.array(Dataset[i].permute( 1, 2, 0))\n",
    "    orig = cv2.normalize(orig, None, 0, 255, cv2.NORM_MINMAX, cv2.CV_8U)\n",
    "    \n",
    "    gt = np.array(groundtruth[i]).squeeze()\n",
    "    gt =cv2.cvtColor(gt,cv2.COLOR_GRAY2RGB)\n",
    "    gt = cv2.normalize(gt, None, 0, 255, cv2.NORM_MINMAX, cv2.CV_8U)\n",
    "    \n",
    "    horiz = np.concatenate((orig,img,gt),axis=1)\n",
    "    \n",
    "    figure(figsize=(12, 6), dpi=80)\n",
    "    plt.imshow(horiz)\n",
    "    plt.show()"
   ]
  },
  {
   "cell_type": "code",
   "execution_count": null,
   "metadata": {},
   "outputs": [],
   "source": [
    "# print(train_data_path)\n",
    "# train_data_path =os.path.dirname(train_data_path)\n",
    "# GROUND_MASK_DIR_PATH = train_data_path\n",
    "# GROUND_MASK_DIR_PATH = os.path.join(os.path.dirname(train_data_path),\"GT\")\n"
   ]
  },
  {
   "cell_type": "code",
   "execution_count": null,
   "metadata": {},
   "outputs": [],
   "source": [
    "\n",
    "# class arrDataset:\n",
    "# #     normalize when loADING\n",
    "#   def __init__(self, data_points_count= 2047):    \n",
    "#     self.data_points_count= data_points_count\n",
    "#     self.data = np.zeros((0, data_points_count))   \n",
    "#     self.labels = np.zeros((0))\n",
    "#     self.classes = {}\n",
    "    \n",
    "#   def add_items(self, data, labels):\n",
    "#     data = data[:, 0:self.raman_points_count]\n",
    "#     self.data = np.concatenate((self.data, data))\n",
    "#     self.labels = np.concatenate((self.labels, labels))\n",
    "    \n",
    "#   def add_class(self, label, meas_class):\n",
    "#     self.classes[label] =   meas_class\n",
    "\n",
    "# def create_dataset(measurments,label, label_class):\n",
    "#   dataset=Dataset()\n",
    "#   measurments = [i for i in measurments if i is not None]\n",
    "  \n",
    "#   dataset.add_class(label, label_class)\n",
    "  \n",
    "#   for measurment in measurments:\n",
    "#       dataset.add_items(np.array(measurment[None,:]),np.array([label]))\n",
    "        \n",
    "# #   print(dataset.get_data_shape())\n",
    "#   return dataset"
   ]
  },
  {
   "cell_type": "code",
   "execution_count": null,
   "metadata": {},
   "outputs": [],
   "source": [
    "\n",
    "#         if re.findall('.jpg$', imgPath)  :\n",
    "#             path,ext  = os.path.splitext(imgPath)\n",
    "#             file = os.path.basename(path)\n",
    "#             dirPath = os.path.dirname(path)\n",
    "\n",
    "#loss type                 input  target\n",
    "#nn.MSELoss()              float, float\n",
    "#nn.CrossEntropyLoss()     float, float "
   ]
  },
  {
   "cell_type": "code",
   "execution_count": null,
   "metadata": {},
   "outputs": [],
   "source": [
    "for parameter in model.parameters():\n",
    "    print(parameter)"
   ]
  }
 ],
 "metadata": {
  "colab": {
   "provenance": []
  },
  "kernelspec": {
   "display_name": "Python 3 (ipykernel)",
   "language": "python",
   "name": "python3"
  },
  "language_info": {
   "codemirror_mode": {
    "name": "ipython",
    "version": 3
   },
   "file_extension": ".py",
   "mimetype": "text/x-python",
   "name": "python",
   "nbconvert_exporter": "python",
   "pygments_lexer": "ipython3",
   "version": "3.10.6"
  }
 },
 "nbformat": 4,
 "nbformat_minor": 1
}
