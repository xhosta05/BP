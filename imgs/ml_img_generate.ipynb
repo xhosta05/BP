{
 "cells": [
  {
   "cell_type": "code",
   "execution_count": 2,
   "metadata": {},
   "outputs": [
    {
     "name": "stdout",
     "output_type": "stream",
     "text": [
      "Looking in indexes: https://pypi.org/simple, https://pypi.ngc.nvidia.com\r\n",
      "Requirement already satisfied: imutils in /home/kristina/.local/lib/python3.10/site-packages (0.5.4)\r\n"
     ]
    }
   ],
   "source": [
    "!pip install imutils\n",
    "\n",
    "import os\n",
    "import re\n",
    "import cv2\n",
    "import math\n",
    "\n",
    "import numpy as np\n",
    "import matplotlib.pyplot as plt\n",
    "import importlib\n",
    "\n",
    "import itertools\n",
    "import random\n",
    "\n",
    "# files\n",
    "import utils\n",
    "import synteticDS\n",
    "# import dataset "
   ]
  },
  {
   "cell_type": "code",
   "execution_count": 21,
   "metadata": {
    "colab": {
     "base_uri": "https://localhost:8080/",
     "height": 575
    },
    "id": "jCCu52vDHX0J",
    "outputId": "72edac9d-d7fd-4504-83bd-f639077f17df"
   },
   "outputs": [
    {
     "name": "stdout",
     "output_type": "stream",
     "text": [
      "circles  321\n",
      "blobs  356\n",
      "fibers  546\n"
     ]
    }
   ],
   "source": [
    "# Load the dataset\n",
    "\n",
    "train_data_path= \"../../data/imgs/artificial/all\"\n",
    "circle_img_paths=[]\n",
    "blob_img_paths=[]\n",
    "# shard_img_paths=[]\n",
    "fibers_img_paths=[]\n",
    "all_img_paths=[]\n",
    "# for root, dirs, files in os.walk(train_data_path, topdown=False):\n",
    "root, dirs, files = next(os.walk(train_data_path))\n",
    "for dirTemp in dirs:\n",
    "    dirTemp=os.path.join(root, dirTemp)\n",
    "    for  roott, dirss, files in os.walk(dirTemp):\n",
    "        for name in files:\n",
    "    #         if re.findall('particleCutouts.*.jpg', root+name): \n",
    "            if re.findall('.jpg', roott+name):  \n",
    "                imgPath = os.path.join(roott,name)\n",
    "                if re.findall('cracks', imgPath):\n",
    "                    fibers_img_paths.append(imgPath) \n",
    "                elif re.findall('rBlobs', imgPath):\n",
    "                    blob_img_paths.append(imgPath)        \n",
    "                elif re.findall('rCircles', imgPath):\n",
    "                    circle_img_paths.append(imgPath)    \n",
    "        break\n",
    "all_img_paths.append(fibers_img_paths) \n",
    "all_img_paths.append(blob_img_paths) \n",
    "all_img_paths.append(circle_img_paths)\n",
    "if not all_img_paths:\n",
    "    print(\"err loading \",train_data_path)\n",
    "else:\n",
    "    print(\"circles \",len(circle_img_paths))    \n",
    "    print(\"blobs \",len(blob_img_paths))    \n",
    "    print(\"fibers \",len(fibers_img_paths))"
   ]
  },
  {
   "cell_type": "code",
   "execution_count": 4,
   "metadata": {
    "scrolled": false
   },
   "outputs": [
    {
     "data": {
      "image/png": "[encoded data removed]",
      "text/plain": [
       "<Figure size 432x288 with 6 Axes>"
      ]
     },
     "metadata": {
      "needs_background": "light"
     },
     "output_type": "display_data"
    },
    {
     "name": "stdout",
     "output_type": "stream",
     "text": [
      "(89, 250, 3)\n"
     ]
    }
   ],
   "source": [
    "fig, axarr = plt.subplots(2,3)\n",
    "\n",
    "for idx, classList in enumerate(all_img_paths):\n",
    "    image = cv2.imread(classList[0])\n",
    "    imageMask = utils.getMask(image,threshold=4,kernelSize=1) \n",
    "    # listContours = markContours(imageMask) \n",
    "#     imgContours = utils.img2segmented(imageMask)\n",
    "    \n",
    "#     axarr[idx].imshow(imgContours)\n",
    "    axarr[0][idx].imshow(image)\n",
    "    axarr[1][idx].imshow(imageMask)\n",
    "    \n",
    "plt.show()\n",
    "#     a=np.unique(imgContours)\n",
    "print(cv2.imread(fibers_img_paths[0]).shape)"
   ]
  },
  {
   "cell_type": "code",
   "execution_count": 26,
   "metadata": {},
   "outputs": [
    {
     "ename": "KeyboardInterrupt",
     "evalue": "",
     "output_type": "error",
     "traceback": [
      "\u001b[0;31m---------------------------------------------------------------------------\u001b[0m",
      "\u001b[0;31mKeyboardInterrupt\u001b[0m                         Traceback (most recent call last)",
      "Cell \u001b[0;32mIn[26], line 24\u001b[0m\n\u001b[1;32m     21\u001b[0m \u001b[38;5;28;01mfor\u001b[39;00m i \u001b[38;5;129;01min\u001b[39;00m \u001b[38;5;28mrange\u001b[39m(\u001b[38;5;241m10\u001b[39m):\n\u001b[1;32m     22\u001b[0m     particle_examples \u001b[38;5;241m=\u001b[39m random\u001b[38;5;241m.\u001b[39mchoices(imgPaths, k\u001b[38;5;241m=\u001b[39mnumberOfParticlesInImg)\n\u001b[0;32m---> 24\u001b[0m     genImg,_ \u001b[38;5;241m=\u001b[39m \u001b[43msynteticDS\u001b[49m\u001b[38;5;241;43m.\u001b[39;49m\u001b[43mgenerate_image\u001b[49m\u001b[43m(\u001b[49m\u001b[43mparticle_examples\u001b[49m\u001b[43m,\u001b[49m\u001b[43m \u001b[49m\u001b[43mnumberOfParticlesInImg\u001b[49m\u001b[43m)\u001b[49m\n\u001b[1;32m     25\u001b[0m     savePathTemp\u001b[38;5;241m=\u001b[39m os\u001b[38;5;241m.\u001b[39mpath\u001b[38;5;241m.\u001b[39mjoin(savePath,\u001b[38;5;124m\"\u001b[39m\u001b[38;5;124mresult\u001b[39m\u001b[38;5;124m\"\u001b[39m,\u001b[38;5;124m'\u001b[39m\u001b[38;5;124mwaferCracks\u001b[39m\u001b[38;5;124m'\u001b[39m\u001b[38;5;241m+\u001b[39m\u001b[38;5;28mstr\u001b[39m(i)\u001b[38;5;241m+\u001b[39m\u001b[38;5;124m'\u001b[39m\u001b[38;5;124m.jpg\u001b[39m\u001b[38;5;124m'\u001b[39m)\n\u001b[1;32m     27\u001b[0m     cv2\u001b[38;5;241m.\u001b[39mimwrite(savePathTemp, genImg)\n",
      "File \u001b[0;32m~/esiee/BP/imgs/synteticDS.py:158\u001b[0m, in \u001b[0;36mgenerate_image\u001b[0;34m(particle_examples, numberOfParticles, background, shape, img_config)\u001b[0m\n\u001b[1;32m    155\u001b[0m col \u001b[38;5;241m=\u001b[39m randint(\u001b[38;5;241m0\u001b[39m, shape[\u001b[38;5;241m1\u001b[39m]\u001b[38;5;241m-\u001b[39mri_cols)\n\u001b[1;32m    157\u001b[0m image0s[row:row \u001b[38;5;241m+\u001b[39mri_rows, col:col\u001b[38;5;241m+\u001b[39mri_cols, :] \u001b[38;5;241m=\u001b[39m rotatedImage\n\u001b[0;32m--> 158\u001b[0m segMask \u001b[38;5;241m=\u001b[39m \u001b[43mutils\u001b[49m\u001b[38;5;241;43m.\u001b[39;49m\u001b[43mgetMask\u001b[49m\u001b[43m(\u001b[49m\u001b[43mimage0s\u001b[49m\u001b[43m,\u001b[49m\u001b[43mthreshold\u001b[49m\u001b[38;5;241;43m=\u001b[39;49m\u001b[38;5;241;43m1\u001b[39;49m\u001b[43m,\u001b[49m\u001b[43mkernelSize\u001b[49m\u001b[38;5;241;43m=\u001b[39;49m\u001b[38;5;241;43m1\u001b[39;49m\u001b[43m)\u001b[49m \n\u001b[1;32m    159\u001b[0m segMasks\u001b[38;5;241m.\u001b[39mappend(segMask)\n\u001b[1;32m    161\u001b[0m rotatedImageBG\u001b[38;5;241m=\u001b[39mgenerated_image[row:row \u001b[38;5;241m+\u001b[39mri_rows, col:col\u001b[38;5;241m+\u001b[39mri_cols, :]\n",
      "File \u001b[0;32m~/esiee/BP/imgs/utils.py:30\u001b[0m, in \u001b[0;36mgetMask\u001b[0;34m(image, threshold, kernelSize)\u001b[0m\n\u001b[1;32m     27\u001b[0m \u001b[38;5;28;01mdef\u001b[39;00m \u001b[38;5;21mgetMask\u001b[39m(image,threshold\u001b[38;5;241m=\u001b[39m\u001b[38;5;241m100\u001b[39m,kernelSize\u001b[38;5;241m=\u001b[39m\u001b[38;5;241m7\u001b[39m):\n\u001b[1;32m     28\u001b[0m     image \u001b[38;5;241m=\u001b[39m cv2\u001b[38;5;241m.\u001b[39mcvtColor(image, cv2\u001b[38;5;241m.\u001b[39mCOLOR_BGR2RGB)\n\u001b[0;32m---> 30\u001b[0m     particles_mask \u001b[38;5;241m=\u001b[39m \u001b[43msegment_image\u001b[49m\u001b[43m(\u001b[49m\u001b[43mimage\u001b[49m\u001b[43m,\u001b[49m\u001b[43mthreshold\u001b[49m\u001b[43m)\u001b[49m  \u001b[38;5;66;03m# img2binaryImg\u001b[39;00m\n\u001b[1;32m     31\u001b[0m     \u001b[38;5;66;03m# todo check other imgs (auto threshold)\u001b[39;00m\n\u001b[1;32m     32\u001b[0m     labelsCount, labelIds, values, centroid\u001b[38;5;241m=\u001b[39mlabel_regions(particles_mask, kernelSize) \u001b[38;5;66;03m#image morphology\u001b[39;00m\n",
      "File \u001b[0;32m~/esiee/BP/imgs/utils.py:23\u001b[0m, in \u001b[0;36msegment_image\u001b[0;34m(image, treshold)\u001b[0m\n\u001b[1;32m     22\u001b[0m \u001b[38;5;28;01mdef\u001b[39;00m \u001b[38;5;21msegment_image\u001b[39m(image, treshold):\n\u001b[0;32m---> 23\u001b[0m     image\u001b[38;5;241m=\u001b[39m\u001b[43mget_gray\u001b[49m\u001b[43m(\u001b[49m\u001b[43mimage\u001b[49m\u001b[43m)\u001b[49m\n\u001b[1;32m     24\u001b[0m     particles \u001b[38;5;241m=\u001b[39m np\u001b[38;5;241m.\u001b[39minvert(image \u001b[38;5;241m>\u001b[39m treshold) \n\u001b[1;32m     25\u001b[0m     \u001b[38;5;28;01mreturn\u001b[39;00m particles\n",
      "\u001b[0;31mKeyboardInterrupt\u001b[0m: "
     ]
    }
   ],
   "source": [
    "import copy \n",
    "importlib.reload(synteticDS)\n",
    "\n",
    "# train_data_path= all_img_paths\n",
    "savePath =\"../../data/imgs/artificial/all\"\n",
    "# #  all_img_paths= \"../../data/imgs/artificial/* \"\n",
    "# imgBackupParticlesPaths= all_img_paths\n",
    "# imgWaferParticlesPaths= synteticDS.getPaths(\"../../data/imgs/artificial/waferCracks_Particles/\",False)\n",
    "\n",
    "# imgWaferPaths= synteticDS.getPaths(\"../../data/imgs/wafer/in/\")\n",
    "# randomWaferPaths = random.choices(imgWaferPaths, k=70)\n",
    "# background = synteticDS.backgroundFrameMean(randomWaferPaths,125)\n",
    "allImgPaths=[]\n",
    "for dataset in all_img_paths: # same ratios of particle types\n",
    "    randomParticlePaths = random.choices(dataset, k=200)\n",
    "    allImgPaths.append(randomParticlePaths)\n",
    "\n",
    "imgPaths=  list(itertools.chain.from_iterable(allImgPaths)) \n",
    "numberOfParticlesInImg= 100  #randint(0, 50)\n",
    "for i in range(10):\n",
    "    particle_examples = random.choices(imgPaths, k=numberOfParticlesInImg)\n",
    "\n",
    "    genImg,_ = synteticDS.generate_image(particle_examples, numberOfParticlesInImg)\n",
    "    savePathTemp= os.path.join(savePath,\"result\",'waferCracks'+str(i)+'.jpg')\n",
    "\n",
    "    cv2.imwrite(savePathTemp, genImg)\n",
    "#     cv2.imwrite(savePath2, genImg2)\n",
    "plt.imshow(genImg)\n",
    "plt.show()  "
   ]
  },
  {
   "cell_type": "code",
   "execution_count": null,
   "metadata": {},
   "outputs": [],
   "source": [
    "# TODO segMaskCombine\n"
   ]
  },
  {
   "cell_type": "code",
   "execution_count": null,
   "metadata": {},
   "outputs": [],
   "source": [
    "# TODO masks to coco\n",
    "# TODO segMaskCombine\n",
    "# save (cocoView, segMaskCombine, genImage) -> send to F,A,E\n",
    "\n"
   ]
  },
  {
   "cell_type": "code",
   "execution_count": 82,
   "metadata": {},
   "outputs": [
    {
     "name": "stdout",
     "output_type": "stream",
     "text": [
      "2 (2, 5) (2, 2)\n"
     ]
    },
    {
     "data": {
      "image/png": "[encoded data removed]",
      "text/plain": [
       "<Figure size 432x288 with 1 Axes>"
      ]
     },
     "metadata": {
      "needs_background": "light"
     },
     "output_type": "display_data"
    }
   ],
   "source": [
    "image = cv2.imread(all_img_paths[0][0])\n",
    "imageMask = utils.getMask(image,threshold=100,kernelSize=10) \n",
    "contours = cv2.findContours(imageMask, cv2.RETR_CCOMP, cv2.CHAIN_APPROX_NONE) # img, contours, hierarchy\n",
    "\n",
    "labelsCount, _, values, centroids=  cv2.connectedComponentsWithStats(imageMask) \n",
    "print(labelsCount, values.shape, centroids.shape)\n",
    "\n",
    "contoursImg = np.zeros(image.shape, dtype=np.uint8)\n",
    "axSize = math.sqrt(labelsCount)\n",
    "fig, axarr = plt.subplots(1,3)\n",
    "\n",
    "for i,cnt in enumerate(contours[0]): # iterate through contours\n",
    "    if i > 0:  # skip background\n",
    "        contour = cnt.squeeze()\n",
    "        \"\"\" coco features \"\"\"\n",
    "#         image0 = np.zeros(image.shape, dtype=np.uint8)\n",
    "\n",
    "        moments = cv2.moments(contour)\n",
    "        cx = int(moments[\"m10\"] / moments[\"m00\"])\n",
    "        cy = int(moments[\"m01\"] / moments[\"m00\"])\n",
    "        \n",
    "        BBox = cv2.boundingRect(contour)  # cv2.rectangle(contoursImg,(BBox[0],BBox[1]),(BBox[0]+BBox[2],BBox[1]+BBox[3]),(0,255,0),2)\n",
    "        area = cv2.contourArea(contour)\n",
    "        \n",
    "        cv2.rectangle(contoursImg,(BBox[0],BBox[1]),(BBox[0]+BBox[2],BBox[1]+BBox[3]),(0,255,0),2)\n",
    "        contoursImg = cv2.drawContours(contoursImg, contours[0],i,(255,255,255), thickness=cv2.FILLED)\n",
    "\n",
    "\n",
    "plt.imshow(contoursImg)\n",
    "plt.show()\n",
    "    \n",
    "\n",
    "# plot_intensity_histogram(image) "
   ]
  },
  {
   "cell_type": "code",
   "execution_count": null,
   "metadata": {},
   "outputs": [],
   "source": [
    "if ( h/w ratio >x || <x) || contour length/convex hull ratio"
   ]
  }
 ],
 "metadata": {
  "colab": {
   "provenance": []
  },
  "kernelspec": {
   "display_name": "Python 3 (ipykernel)",
   "language": "python",
   "name": "python3"
  },
  "language_info": {
   "codemirror_mode": {
    "name": "ipython",
    "version": 3
   },
   "file_extension": ".py",
   "mimetype": "text/x-python",
   "name": "python",
   "nbconvert_exporter": "python",
   "pygments_lexer": "ipython3",
   "version": "3.10.6"
  }
 },
 "nbformat": 4,
 "nbformat_minor": 1
}
