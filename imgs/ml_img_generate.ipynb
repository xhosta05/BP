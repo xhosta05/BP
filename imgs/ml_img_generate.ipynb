{
 "cells": [
  {
   "cell_type": "code",
   "execution_count": 5,
   "metadata": {},
   "outputs": [
    {
     "name": "stdout",
     "output_type": "stream",
     "text": [
      "Defaulting to user installation because normal site-packages is not writeable\n",
      "Requirement already satisfied: imutils in /home/dell/.local/lib/python3.9/site-packages (0.5.4)\n"
     ]
    }
   ],
   "source": [
    "!pip install imutils\n",
    "\n",
    "import os\n",
    "import re\n",
    "import cv2\n",
    "import math\n",
    "\n",
    "import numpy as np\n",
    "import matplotlib.pyplot as plt\n",
    "import importlib\n",
    "\n",
    "import itertools\n",
    "import random\n",
    "\n",
    "# files\n",
    "import utils\n",
    "import synteticDS\n",
    "# import dataset "
   ]
  },
  {
   "cell_type": "code",
   "execution_count": 90,
   "metadata": {
    "colab": {
     "base_uri": "https://localhost:8080/",
     "height": 575
    },
    "id": "jCCu52vDHX0J",
    "outputId": "72edac9d-d7fd-4504-83bd-f639077f17df"
   },
   "outputs": [
    {
     "name": "stdout",
     "output_type": "stream",
     "text": [
      "blobs  356\n",
      "fibers  536\n",
      "circles  321\n"
     ]
    }
   ],
   "source": [
    "# Load the dataset\n",
    "\n",
    "train_data_path= \"../../data/all/\"\n",
    "circle_img_paths=[]\n",
    "blob_img_paths=[]\n",
    "# shard_img_paths=[]\n",
    "fibers_img_paths=[]\n",
    "all_img_paths=[]\n",
    "# for root, dirs, files in os.walk(train_data_path, topdown=False):\n",
    "root, dirs, files = next(os.walk(train_data_path))\n",
    "for dirTemp in dirs:\n",
    "#     print(dirTemp)\n",
    "    dirTemp=os.path.join(root, dirTemp)\n",
    "    for  roott, dirss, files in os.walk(dirTemp):\n",
    "        for name in files:\n",
    "    #         if re.findall('particleCutouts.*.jpg', root+name): \n",
    "            if re.findall('.jpg', roott+name):  \n",
    "                imgPath = os.path.join(roott,name)\n",
    "                if re.findall('cracks', imgPath):\n",
    "                    fibers_img_paths.append(imgPath) \n",
    "                elif re.findall('rBlobs', imgPath):\n",
    "                    blob_img_paths.append(imgPath)        \n",
    "                elif re.findall('rCircles', imgPath):\n",
    "                    circle_img_paths.append(imgPath)    \n",
    "        break\n",
    "all_img_paths.append(fibers_img_paths) \n",
    "all_img_paths.append(blob_img_paths) \n",
    "all_img_paths.append(circle_img_paths)\n",
    "if not all_img_paths:\n",
    "    print(\"err loading \",train_data_path)\n",
    "else:  \n",
    "    print(\"fibers \",len(fibers_img_paths))\n",
    "    print(\"blobs \",len(blob_img_paths))    \n",
    "    print(\"circles \",len(circle_img_paths))  "
   ]
  },
  {
   "cell_type": "code",
   "execution_count": 91,
   "metadata": {},
   "outputs": [],
   "source": [
    "\n",
    "import random\n",
    "from imutils import rotate_bound\n",
    "from random import randint, shuffle\n",
    "\n",
    "def generate_image(particle_examples, numberOfParticles = 20, background=None, shape=(1080,1920,3), img_config=None):\n",
    "# particle_examples = path to cutouts of particles\n",
    "    segMasks = []\n",
    "    \n",
    "    if background is None:\n",
    "        generated_image = np.zeros(shape, dtype=np.uint8)\n",
    "    else:\n",
    "        generated_image = copy.deepcopy(background)\n",
    "        shape=background.shape\n",
    "        \n",
    "    for particleClass in particle_examples:\n",
    "        segMask= np.zeros(shape[:-1], dtype=np.uint8)\n",
    "#         classMask.append(img)\n",
    "        for particleClassExample in particleClass:\n",
    "            particleImg = cv2.imread(particleClassExample)\n",
    "\n",
    "            image0s = np.zeros(shape, dtype=np.uint8)\n",
    "\n",
    "#             for i in range(numberOfParticles):\n",
    "#                 particleImg = cv2.imread(particleClassExample[i]) \n",
    "                \n",
    "            if (np.array(particleImg.shape) > np.array(shape)).any():\n",
    "                print(np.array(particleImg.shape), np.array(shape))\n",
    "                continue #skip particles bigger than background\n",
    "\n",
    "\n",
    "            angle = randint(0, 359)\n",
    "            rotatedImage = rotate_bound( particleImg, angle)\n",
    "            ri_rows, ri_cols, _ = rotatedImage.shape\n",
    "            if (shape[0]-ri_rows)<0:\n",
    "                print(\"Rotated img \",particle_examples[i])\n",
    "                print(\" bigger than bckg shouldnt happen, check particle imgs\")\n",
    "                rotatedImage=rotatedImage[ri_rows-shape[0]:,ri_cols-shape[1]:]\n",
    "                ri_rows, ri_cols, _ = rotatedImage.shape\n",
    "\n",
    "            row = randint(0, shape[0]-ri_rows)\n",
    "            col = randint(0, shape[1]-ri_cols)\n",
    "\n",
    "            image0s[row:row +ri_rows, col:col+ri_cols, :] = rotatedImage\n",
    "#             particleMask = utils.getMask(image0s,threshold=1,kernelSize=1) \n",
    "            \n",
    "#             print(image0s.shape)\n",
    "#             print(segMask.shape,particleMask.shape)\n",
    "            \n",
    "            particleMask = (image0s > 1 )\n",
    "            particleMask = image0s[:,:,0] # take only 1 channel\n",
    "            segMask=(cv2.bitwise_or(segMask,particleMask))\n",
    "\n",
    "            rotatedImageBG=generated_image[row:row +ri_rows, col:col+ri_cols, :]\n",
    "            addedRotatedImage = cv2.addWeighted(rotatedImageBG,1,rotatedImage,1,0)\n",
    "\n",
    "            generated_image[row:row +ri_rows, col:col+ri_cols, :] =  addedRotatedImage    \n",
    "        segMasks.append(segMask)\n",
    "        \n",
    "    segMasks=np.array(segMasks)\n",
    "    segMasks=np.transpose(segMasks, (1,2,0))\n",
    "\n",
    "    return [generated_image, segMasks]\n"
   ]
  },
  {
   "cell_type": "code",
   "execution_count": 98,
   "metadata": {},
   "outputs": [
    {
     "data": {
      "image/png": "[encoded data removed]",
      "text/plain": [
       "<Figure size 432x288 with 1 Axes>"
      ]
     },
     "metadata": {
      "needs_background": "light"
     },
     "output_type": "display_data"
    },
    {
     "data": {
      "image/png": "[encoded data removed]",
      "text/plain": [
       "<Figure size 432x288 with 1 Axes>"
      ]
     },
     "metadata": {
      "needs_background": "light"
     },
     "output_type": "display_data"
    },
    {
     "name": "stdout",
     "output_type": "stream",
     "text": [
      "CPU times: user 1min 39s, sys: 2.27 s, total: 1min 41s\n",
      "Wall time: 1min 41s\n"
     ]
    }
   ],
   "source": [
    "%%time\n",
    "import copy \n",
    "importlib.reload(synteticDS)\n",
    "\n",
    "def splitNumberBy(number,ratio):\n",
    "    numOfParts=sum(ratio)\n",
    "    return [round((number/numOfParts)*div) for div in ratio]\n",
    "\n",
    "# train_data_path= all_img_paths\n",
    "savePath =\"../../data/syn/\"\n",
    "# #  all_img_paths= \"../../data/imgs/artificial/* \"\n",
    "# imgBackupParticlesPaths= all_img_paths\n",
    "# imgWaferParticlesPaths= synteticDS.getPaths(\"../../data/imgs/artificial/waferCracks_Particles/\",False)\n",
    "\n",
    "# imgWaferPaths= synteticDS.getPaths(\"../../data/imgs/wafer/in/\")\n",
    "# randomWaferPaths = random.choices(imgWaferPaths, k=70)\n",
    "# background = synteticDS.backgroundFrameMean(randomWaferPaths,125)\n",
    "# imgPaths=  list(itertools.chain.from_iterable(allImgPaths)) \n",
    "\n",
    "# numberOfParticlesInImg= 10  #randint(0, 50)\n",
    "for numberOfParticlesInImg in range(10,100):\n",
    "    ratio=[1,3,3]\n",
    "    nParticlesOfClass= splitNumberBy(numberOfParticlesInImg,ratio)\n",
    "\n",
    "    for i in range(5):\n",
    "        \n",
    "        allImgPaths=[]\n",
    "        for idx, dataset in enumerate(all_img_paths): # same ratios of particle types\n",
    "            randomParticlePaths = random.choices(dataset, k=nParticlesOfClass[idx])\n",
    "            allImgPaths.append(randomParticlePaths)\n",
    "        particle_examples = allImgPaths\n",
    "\n",
    "        generated_image, segMasks = generate_image(particle_examples, numberOfParticlesInImg)\n",
    "\n",
    "    #     genImg,_ = synteticDS.generate_image(particle_examples, numberOfParticlesInImg)\n",
    "    ##     genImg = cv2.cvtColor(genImg, cv2.COLOR_BGR2GRAY)\n",
    "        savePathIN= os.path.join(savePath,\"IN/\",str(numberOfParticlesInImg)+\"particles_\"+str(i))\n",
    "        cv2.imwrite(savePathIN+\".jpg\", generated_image)\n",
    "\n",
    "        savePathGT= os.path.join(savePath,\"GT/\",str(numberOfParticlesInImg)+\"particles_\"+str(i))\n",
    "        cv2.imwrite(savePathGT+\".tif\", segMasks)\n",
    "    \n",
    "plt.imshow(generated_image)\n",
    "plt.show()  \n",
    "plt.imshow(segMasks)\n",
    "plt.show()  "
   ]
  },
  {
   "cell_type": "code",
   "execution_count": 7,
   "metadata": {},
   "outputs": [],
   "source": [
    "# https://www.kaggle.com/code/chanduanilkumar/adding-and-removing-image-noise-in-python\n",
    "def gauss(image):\n",
    "    gauss_noise=np.zeros((image.shape[:-1]),dtype=np.uint8)\n",
    "    cv2.randn(gauss_noise,125,50)\n",
    "    gauss_noise=(gauss_noise*0.5).astype(np.uint8)\n",
    "    gauss_noise = cv2.cvtColor(gauss_noise, cv2.COLOR_GRAY2BGR)\n",
    "    return cv2.add(img,gauss_noise)\n",
    "\n",
    "def uniform(image):\n",
    "    uni_noise=np.zeros((image.shape[:-1]),dtype=np.uint8)\n",
    "    cv2.randu(uni_noise,0,255)\n",
    "    uni_noise=(uni_noise*0.5).astype(np.uint8)\n",
    "    uni_noise = cv2.cvtColor(uni_noise, cv2.COLOR_GRAY2BGR)\n",
    "    return cv2.add(img,uni_noise)\n",
    "\n",
    "def impulse(image,ratio=0.5): # (salt and pepper)\n",
    "    imp_noise=np.zeros((image.shape[:-1]),dtype=np.uint8)\n",
    "    cv2.randu(imp_noise,0,255)\n",
    "    imp_noise=cv2.threshold(imp_noise,int(255*ratio),255,cv2.THRESH_BINARY)[1]\n",
    "    imp_noise = cv2.cvtColor(imp_noise, cv2.COLOR_GRAY2BGR)\n",
    "    return cv2.add(image,imp_noise)\n",
    "\n",
    "def getNoise(image, noiseType, arguments=None):\n",
    "    if noiseType.lower()==\"g\" or noiseType.lower()==\"gauss\":\n",
    "        image=gauss(image)\n",
    "    elif noiseType.lower()==\"u\" or noiseType.lower()==\"uniform\":\n",
    "        image=uniform(image)\n",
    "    elif noiseType.lower()==\"i\" or noiseType.lower()==\"impulse\" or noiseType.lower()==\"s&p\":\n",
    "        image=impulse(image)\n",
    "    return image\n"
   ]
  },
  {
   "cell_type": "code",
   "execution_count": 13,
   "metadata": {},
   "outputs": [
    {
     "name": "stdout",
     "output_type": "stream",
     "text": [
      "450\n"
     ]
    }
   ],
   "source": [
    "import torchvision\n",
    "from torchvision import datasets, transforms\n",
    "import numpy as np\n",
    "\n",
    "\n",
    "aug_transform = transforms.Compose([\n",
    "    transforms.RandomAffine(degrees=(30, 70),\n",
    "#                             translate=(0.1, 0.3), \n",
    "                            scale=(0.75, 1.25)),\n",
    "    transforms.GaussianBlur(kernel_size=(5,5), sigma=(1, 5)),\n",
    "#     transforms.ToTensor(),\n",
    "])\n",
    "\n",
    "augPath = \"../../data/syn/test/temp/\"\n",
    "dataset = datasets.ImageFolder(augPath)\n",
    "# aug_dataset = datasets.ImageFolder(augPath, aug_transform)\n",
    "print(len(dataset))\n",
    "for idx,image in enumerate(dataset):\n",
    "    img=np.array(image[0])\n",
    "    img=cv2.cvtColor(img, cv2.COLOR_BGR2GRAY)\n",
    "    img=cv2.cvtColor(img, cv2.COLOR_GRAY2BGR)\n",
    "    gaussImg= gauss(img)\n",
    "    uniImg= uniform(img)\n",
    "    s_n_pImg= impulse(img,0.75)\n",
    "    \n",
    "#     print(dataset.imgs[idx][0])\n",
    "    \n",
    "#     plt.imshow(img)\n",
    "#     plt.show() \n",
    "#     plt.imshow(gaussImg)\n",
    "#     plt.show()  \n",
    "#     plt.imshow(uniImg)\n",
    "#     plt.show()  \n",
    "#     plt.imshow(s_n_pImg)\n",
    "#     plt.show()  \n",
    "    filePath=os.path.join(os.path.dirname(dataset.imgs[idx][0]),\"noised\")\n",
    "    fileName=os.path.basename(dataset.imgs[idx][0])\n",
    "#     print(os.path.join(filePath,\"../gauss\"+fileName))\n",
    "#     break\n",
    "    cv2.imwrite(os.path.join(augPath,\"../gray\",fileName), img)\n",
    "    cv2.imwrite(os.path.join(augPath,\"../gauss\",fileName), gaussImg)\n",
    "    cv2.imwrite(os.path.join(augPath,\"../uniform\",fileName), uniImg)\n",
    "    cv2.imwrite(os.path.join(augPath,\"../salt\",fileName), s_n_pImg)"
   ]
  },
  {
   "cell_type": "code",
   "execution_count": 66,
   "metadata": {},
   "outputs": [],
   "source": [
    "# TODO segMaskCombine\n"
   ]
  },
  {
   "cell_type": "code",
   "execution_count": null,
   "metadata": {},
   "outputs": [],
   "source": [
    "# TODO masks to coco\n",
    "# TODO segMaskCombine\n",
    "# save (cocoView, segMaskCombine, genImage) -> send to F,A,E\n",
    "\n"
   ]
  },
  {
   "cell_type": "code",
   "execution_count": 4,
   "metadata": {
    "scrolled": false
   },
   "outputs": [
    {
     "data": {
      "image/png": "[encoded data removed]",
      "text/plain": [
       "<Figure size 432x288 with 6 Axes>"
      ]
     },
     "metadata": {
      "needs_background": "light"
     },
     "output_type": "display_data"
    },
    {
     "name": "stdout",
     "output_type": "stream",
     "text": [
      "(89, 250, 3)\n"
     ]
    }
   ],
   "source": [
    "# fig, axarr = plt.subplots(2,3)\n",
    "\n",
    "# for idx, classList in enumerate(all_img_paths):\n",
    "#     image = cv2.imread(classList[0])\n",
    "#     imageMask = utils.getMask(image,threshold=4,kernelSize=1) \n",
    "#     # listContours = markContours(imageMask) \n",
    "# #     imgContours = utils.img2segmented(imageMask)\n",
    "    \n",
    "# #     axarr[idx].imshow(imgContours)\n",
    "#     axarr[0][idx].imshow(image)\n",
    "#     axarr[1][idx].imshow(imageMask)\n",
    "    \n",
    "# plt.show()\n",
    "# #     a=np.unique(imgContours)\n",
    "# print(cv2.imread(fibers_img_paths[0]).shape)"
   ]
  },
  {
   "cell_type": "code",
   "execution_count": 82,
   "metadata": {},
   "outputs": [
    {
     "name": "stdout",
     "output_type": "stream",
     "text": [
      "2 (2, 5) (2, 2)\n"
     ]
    },
    {
     "data": {
      "image/png": "[encoded data removed]",
      "text/plain": [
       "<Figure size 432x288 with 1 Axes>"
      ]
     },
     "metadata": {
      "needs_background": "light"
     },
     "output_type": "display_data"
    }
   ],
   "source": [
    "image = cv2.imread(all_img_paths[0][0])\n",
    "imageMask = utils.getMask(image,threshold=100,kernelSize=10) \n",
    "contours = cv2.findContours(imageMask, cv2.RETR_CCOMP, cv2.CHAIN_APPROX_NONE) # img, contours, hierarchy\n",
    "\n",
    "labelsCount, _, values, centroids=  cv2.connectedComponentsWithStats(imageMask) \n",
    "print(labelsCount, values.shape, centroids.shape)\n",
    "\n",
    "contoursImg = np.zeros(image.shape, dtype=np.uint8)\n",
    "axSize = math.sqrt(labelsCount)\n",
    "fig, axarr = plt.subplots(1,3)\n",
    "\n",
    "for i,cnt in enumerate(contours[0]): # iterate through contours\n",
    "    if i > 0:  # skip background\n",
    "        contour = cnt.squeeze()\n",
    "        \"\"\" coco features \"\"\"\n",
    "#         image0 = np.zeros(image.shape, dtype=np.uint8)\n",
    "\n",
    "        moments = cv2.moments(contour)\n",
    "        cx = int(moments[\"m10\"] / moments[\"m00\"])\n",
    "        cy = int(moments[\"m01\"] / moments[\"m00\"])\n",
    "        \n",
    "        BBox = cv2.boundingRect(contour)  # cv2.rectangle(contoursImg,(BBox[0],BBox[1]),(BBox[0]+BBox[2],BBox[1]+BBox[3]),(0,255,0),2)\n",
    "        area = cv2.contourArea(contour)\n",
    "        \n",
    "        cv2.rectangle(contoursImg,(BBox[0],BBox[1]),(BBox[0]+BBox[2],BBox[1]+BBox[3]),(0,255,0),2)\n",
    "        contoursImg = cv2.drawContours(contoursImg, contours[0],i,(255,255,255), thickness=cv2.FILLED)\n",
    "\n",
    "\n",
    "plt.imshow(contoursImg)\n",
    "plt.show()\n",
    "    \n",
    "\n",
    "# plot_intensity_histogram(image) "
   ]
  },
  {
   "cell_type": "code",
   "execution_count": null,
   "metadata": {},
   "outputs": [],
   "source": []
  },
  {
   "cell_type": "code",
   "execution_count": null,
   "metadata": {},
   "outputs": [],
   "source": [
    "if ( h/w ratio >x || <x) || contour length/convex hull ratio"
   ]
  }
 ],
 "metadata": {
  "colab": {
   "provenance": []
  },
  "kernelspec": {
   "display_name": "Python 3 (ipykernel)",
   "language": "python",
   "name": "python3"
  },
  "language_info": {
   "codemirror_mode": {
    "name": "ipython",
    "version": 3
   },
   "file_extension": ".py",
   "mimetype": "text/x-python",
   "name": "python",
   "nbconvert_exporter": "python",
   "pygments_lexer": "ipython3",
   "version": "3.9.7"
  }
 },
 "nbformat": 4,
 "nbformat_minor": 1
}
