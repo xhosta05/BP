{
 "cells": [
  {
   "cell_type": "code",
   "execution_count": 64,
   "metadata": {},
   "outputs": [],
   "source": [
    "import importlib\n",
    "\n",
    "from cocoView import *"
   ]
  },
  {
   "cell_type": "code",
   "execution_count": 65,
   "metadata": {},
   "outputs": [
    {
     "name": "stdout",
     "output_type": "stream",
     "text": [
      "Dataset Info:\n",
      "=============\n",
      "  year: 2023\n",
      "  version: 1\n",
      "  description: Exported from roboflow.ai\n",
      "  contributor: \n",
      "  url: https://public.roboflow.ai/object-detection/undefined\n",
      "  date_created: 2023-05-22T13:05:35+00:00\n",
      "ERROR: year should be type <class 'int'>\n",
      "\n",
      "Licenses:\n",
      "=========\n",
      "  id: 1\n",
      "  url: https://creativecommons.org/licenses/by/4.0/\n",
      "  name: CC BY 4.0\n",
      "\n",
      "\n",
      "Categories:\n",
      "=========\n",
      "  super_category: none\n",
      "    id 0: Plastic\n",
      "\n",
      "  super_category: Plastic\n",
      "    id 1: 1\n",
      "    id 2: 2\n",
      "    id 3: 3\n",
      "    id 4: 3 0 0 0 0\n",
      "\n"
     ]
    }
   ],
   "source": [
    "image_dir = './testCOCO/filtered/test/'\n",
    "annotation_path = './testCOCO/filtered/test/_annotations.coco.json'\n",
    "\n",
    "coco_dataset = CocoDataset(annotation_path, image_dir)\n",
    "coco_dataset.display_info()\n",
    "coco_dataset.display_licenses()\n",
    "coco_dataset.display_categories()\n"
   ]
  },
  {
   "cell_type": "code",
   "execution_count": 68,
   "metadata": {},
   "outputs": [
    {
     "name": "stdout",
     "output_type": "stream",
     "text": [
      "Image:\n",
      "======\n",
      "  id: 21\n",
      "  license: 1\n",
      "  file_name: dirt_345_jpg.rf.0ee4a8d2260a53d34f89f6b67ee7f1e5.jpg\n",
      "  height: 640\n",
      "  width: 640\n",
      "  date_captured: 2023-05-22T13:05:35+00:00\n"
     ]
    },
    {
     "ename": "FileNotFoundError",
     "evalue": "[Errno 2] No such file or directory: './testCOCO/filtered/test/dirt_345_jpg.rf.0ee4a8d2260a53d34f89f6b67ee7f1e5.jpg'",
     "output_type": "error",
     "traceback": [
      "\u001b[0;31m---------------------------------------------------------------------------\u001b[0m",
      "\u001b[0;31mFileNotFoundError\u001b[0m                         Traceback (most recent call last)",
      "Cell \u001b[0;32mIn[68], line 3\u001b[0m\n\u001b[1;32m      1\u001b[0m \u001b[38;5;66;03m# importlib.reload(cocoView)\u001b[39;00m\n\u001b[0;32m----> 3\u001b[0m html \u001b[38;5;241m=\u001b[39m \u001b[43mcoco_dataset\u001b[49m\u001b[38;5;241;43m.\u001b[39;49m\u001b[43mdisplay_image\u001b[49m\u001b[43m(\u001b[49m\u001b[38;5;241;43m21\u001b[39;49m\u001b[43m)\u001b[49m\n\u001b[1;32m      4\u001b[0m IPython\u001b[38;5;241m.\u001b[39mdisplay\u001b[38;5;241m.\u001b[39mHTML(html)\n\u001b[1;32m      6\u001b[0m \u001b[38;5;66;03m# cocoView ctrl f\u001b[39;00m\n\u001b[1;32m      7\u001b[0m \u001b[38;5;66;03m# print('  segmentations ({}):'.format(len(self.segmentations[image_id])))\u001b[39;00m\n",
      "File \u001b[0;32m~/esiee/BP/imgs/cocoView.py:100\u001b[0m, in \u001b[0;36mCocoDataset.display_image\u001b[0;34m(self, image_id, show_polys, show_bbox, show_crowds, use_url)\u001b[0m\n\u001b[1;32m     98\u001b[0m \u001b[38;5;28;01melse\u001b[39;00m:\n\u001b[1;32m     99\u001b[0m     image_path \u001b[38;5;241m=\u001b[39m os\u001b[38;5;241m.\u001b[39mpath\u001b[38;5;241m.\u001b[39mjoin(\u001b[38;5;28mself\u001b[39m\u001b[38;5;241m.\u001b[39mimage_dir, image[\u001b[38;5;124m'\u001b[39m\u001b[38;5;124mfile_name\u001b[39m\u001b[38;5;124m'\u001b[39m])\n\u001b[0;32m--> 100\u001b[0m     image \u001b[38;5;241m=\u001b[39m \u001b[43mPILImage\u001b[49m\u001b[38;5;241;43m.\u001b[39;49m\u001b[43mopen\u001b[49m\u001b[43m(\u001b[49m\u001b[43mimage_path\u001b[49m\u001b[43m)\u001b[49m\n\u001b[1;32m    102\u001b[0m     buffer \u001b[38;5;241m=\u001b[39m BytesIO()\n\u001b[1;32m    103\u001b[0m     image\u001b[38;5;241m.\u001b[39msave(buffer, \u001b[38;5;28mformat\u001b[39m\u001b[38;5;241m=\u001b[39m\u001b[38;5;124m'\u001b[39m\u001b[38;5;124mPNG\u001b[39m\u001b[38;5;124m'\u001b[39m)\n",
      "File \u001b[0;32m~/.local/lib/python3.10/site-packages/PIL/Image.py:3227\u001b[0m, in \u001b[0;36mopen\u001b[0;34m(fp, mode, formats)\u001b[0m\n\u001b[1;32m   3224\u001b[0m     filename \u001b[38;5;241m=\u001b[39m fp\n\u001b[1;32m   3226\u001b[0m \u001b[38;5;28;01mif\u001b[39;00m filename:\n\u001b[0;32m-> 3227\u001b[0m     fp \u001b[38;5;241m=\u001b[39m \u001b[43mbuiltins\u001b[49m\u001b[38;5;241;43m.\u001b[39;49m\u001b[43mopen\u001b[49m\u001b[43m(\u001b[49m\u001b[43mfilename\u001b[49m\u001b[43m,\u001b[49m\u001b[43m \u001b[49m\u001b[38;5;124;43m\"\u001b[39;49m\u001b[38;5;124;43mrb\u001b[39;49m\u001b[38;5;124;43m\"\u001b[39;49m\u001b[43m)\u001b[49m\n\u001b[1;32m   3228\u001b[0m     exclusive_fp \u001b[38;5;241m=\u001b[39m \u001b[38;5;28;01mTrue\u001b[39;00m\n\u001b[1;32m   3230\u001b[0m \u001b[38;5;28;01mtry\u001b[39;00m:\n",
      "\u001b[0;31mFileNotFoundError\u001b[0m: [Errno 2] No such file or directory: './testCOCO/filtered/test/dirt_345_jpg.rf.0ee4a8d2260a53d34f89f6b67ee7f1e5.jpg'"
     ]
    }
   ],
   "source": [
    "# importlib.reload(cocoView)\n",
    "\n",
    "html = coco_dataset.display_image(21)\n",
    "IPython.display.HTML(html)\n",
    "\n",
    "# cocoView ctrl f\n",
    "# print('  segmentations ({}):'.format(len(self.segmentations[image_id])))"
   ]
  },
  {
   "cell_type": "code",
   "execution_count": null,
   "metadata": {},
   "outputs": [],
   "source": [
    "import numpy as np                                 # (pip install numpy)\n",
    "from skimage import measure                        # (pip install scikit-image)\n",
    "from shapely.geometry import Polygon, MultiPolygon # (pip install Shapely)\n",
    "\n",
    "def create_sub_mask_annotation(sub_mask, image_id, category_id, annotation_id, is_crowd):\n",
    "    # Find contours (boundary lines) around each sub-mask\n",
    "    # Note: there could be multiple contours if the object\n",
    "    # is partially occluded. (E.g. an elephant behind a tree)\n",
    "    contours = measure.find_contours(sub_mask, 0.5, positive_orientation='low')\n",
    "\n",
    "    segmentations = []\n",
    "    polygons = []\n",
    "    for contour in contours:\n",
    "        # Flip from (row, col) representation to (x, y)\n",
    "        # and subtract the padding pixel\n",
    "        for i in range(len(contour)):\n",
    "            row, col = contour[i]\n",
    "            contour[i] = (col - 1, row - 1)\n",
    "\n",
    "        # Make a polygon and simplify it\n",
    "        poly = Polygon(contour)\n",
    "        poly = poly.simplify(1.0, preserve_topology=False)\n",
    "        polygons.append(poly)\n",
    "        segmentation = np.array(poly.exterior.coords).ravel().tolist()\n",
    "        segmentations.append(segmentation)\n",
    "\n",
    "    # Combine the polygons to calculate the bounding box and area\n",
    "    multi_poly = MultiPolygon(polygons)\n",
    "    x, y, max_x, max_y = multi_poly.bounds\n",
    "    width = max_x - x\n",
    "    height = max_y - y\n",
    "    bbox = (x, y, width, height)\n",
    "    area = multi_poly.area\n",
    "\n",
    "    annotation = {\n",
    "        'segmentation': segmentations,\n",
    "        'iscrowd': is_crowd,\n",
    "        'image_id': image_id,\n",
    "        'category_id': category_id,\n",
    "        'id': annotation_id,\n",
    "        'bbox': bbox,\n",
    "        'area': area\n",
    "    }\n",
    "\n",
    "    return annotation"
   ]
  },
  {
   "cell_type": "code",
   "execution_count": 82,
   "metadata": {},
   "outputs": [
    {
     "name": "stdout",
     "output_type": "stream",
     "text": [
      "30\n"
     ]
    }
   ],
   "source": [
    "import numpy as np\n",
    "import json\n",
    "import os\n",
    "  \n",
    "def delNoSegJSONelem(pth2json):\n",
    "# delete all without segmentation\n",
    "# TODO: delete pictures from json that are not in the array\n",
    "    imgIDs=[]\n",
    "    imgPaths=[]\n",
    "    with open(pth2json) as f:\n",
    "        count=0\n",
    "        data = json.load(f)\n",
    "        while len(list(data['annotations'])) > count:\n",
    "            annot=data['annotations'][count]\n",
    "            while not annot[\"segmentation\"]:\n",
    "                lastPoppedID=data['annotations'][count][\"id\"]\n",
    "                data['annotations'].pop(count)\n",
    "\n",
    "                if len(list(data['annotations'])) <= count:\n",
    "                    break\n",
    "                else:\n",
    "                    annot=data['annotations'][count]\n",
    "            count+=1\n",
    "        for annot in data['annotations']:\n",
    "            imgIDs.append(annot[\"image_id\"])\n",
    "        for img in data['images']:\n",
    "            if img[\"id\"] in imgIDs:\n",
    "                imgPaths.append(img[\"file_name\"])\n",
    "        return data,imgPaths\n",
    "        \n",
    "        count=0\n",
    "        while len(list(data['images'])) > len(imgPaths):\n",
    "            img=data['images'][count]\n",
    "            while annot[\"id\"] in imgIDs:\n",
    "                lastPoppedID=data['images'][count][\"id\"]\n",
    "                print\n",
    "                data['images'].pop(count)\n",
    "\n",
    "                if len(list(data['images'])) <= count:\n",
    "                    break\n",
    "                else:\n",
    "                    annot=data['images'][count]\n",
    "            count+=1\n",
    "        d2 = {}\n",
    "        data['images'][\"id\"]\n",
    "        \n",
    "        for img in data['images']:\n",
    "            if img[\"id\"] in :\n",
    "                if 'hi' in key:\n",
    "                    key.remove('hi')\n",
    "                d2[tuple(key)] = value\n",
    "                \n",
    "folder='test'\n",
    "pth2json='./testCOCO/'+folder+'/_annotations.coco.json'\n",
    "data,imgPaths = delNoSegJSONelem(pth2json)\n",
    "print(len(imgPaths))\n",
    "with open(\"./testCOCO/filtered/\"+folder+\"/_annotations.coco.json\", \"w\") as outF:\n",
    "    json.dump(data, outF, indent = 6)\n",
    "\n",
    "# for imgName in imgPaths:\n",
    "#     src = os.path.join('./testCOCO/'+folder,imgName)\n",
    "#     dst = os.path.join(\"./testCOCO/filtered/\"+folder,imgName)\n",
    "#     os.replace(src, dst)\n",
    "\n"
   ]
  },
  {
   "cell_type": "code",
   "execution_count": 69,
   "metadata": {},
   "outputs": [
    {
     "name": "stdout",
     "output_type": "stream",
     "text": [
      "Looking in indexes: https://pypi.org/simple, https://pypi.ngc.nvidia.com\n",
      "Requirement already satisfied: pycocotools in /home/kristina/.local/lib/python3.10/site-packages (2.0.6)\n",
      "Requirement already satisfied: matplotlib>=2.1.0 in /home/kristina/.local/lib/python3.10/site-packages (from pycocotools) (3.7.1)\n",
      "Requirement already satisfied: numpy in /home/kristina/.local/lib/python3.10/site-packages (from pycocotools) (1.23.5)\n",
      "Requirement already satisfied: contourpy>=1.0.1 in /home/kristina/.local/lib/python3.10/site-packages (from matplotlib>=2.1.0->pycocotools) (1.0.7)\n",
      "Requirement already satisfied: cycler>=0.10 in /home/kristina/.local/lib/python3.10/site-packages (from matplotlib>=2.1.0->pycocotools) (0.10.0)\n",
      "Requirement already satisfied: fonttools>=4.22.0 in /home/kristina/miniconda3/lib/python3.10/site-packages (from matplotlib>=2.1.0->pycocotools) (4.39.4)\n",
      "Requirement already satisfied: kiwisolver>=1.0.1 in /home/kristina/miniconda3/lib/python3.10/site-packages (from matplotlib>=2.1.0->pycocotools) (1.4.4)\n",
      "Requirement already satisfied: packaging>=20.0 in /home/kristina/.local/lib/python3.10/site-packages (from matplotlib>=2.1.0->pycocotools) (23.0)\n",
      "Requirement already satisfied: pillow>=6.2.0 in /home/kristina/.local/lib/python3.10/site-packages (from matplotlib>=2.1.0->pycocotools) (9.4.0)\n",
      "Requirement already satisfied: pyparsing>=2.3.1 in /home/kristina/miniconda3/lib/python3.10/site-packages (from matplotlib>=2.1.0->pycocotools) (2.4.7)\n",
      "Requirement already satisfied: python-dateutil>=2.7 in /home/kristina/miniconda3/lib/python3.10/site-packages (from matplotlib>=2.1.0->pycocotools) (2.8.2)\n",
      "Requirement already satisfied: six in /home/kristina/miniconda3/lib/python3.10/site-packages (from cycler>=0.10->matplotlib>=2.1.0->pycocotools) (1.16.0)\n"
     ]
    }
   ],
   "source": [
    "import os\n",
    "import re\n",
    "import cv2\n",
    "\n",
    "\n",
    "import numpy as np\n",
    "import matplotlib.pyplot as plt\n",
    "\n",
    "\n",
    "!pip install pycocotools\n",
    "from pycocotools.coco import COCO\n"
   ]
  },
  {
   "cell_type": "code",
   "execution_count": 80,
   "metadata": {},
   "outputs": [
    {
     "name": "stdout",
     "output_type": "stream",
     "text": [
      "loading annotations into memory...\n",
      "Done (t=0.00s)\n",
      "creating index...\n",
      "index created!\n",
      "COCO categories: \n",
      "Plastic 1 2 3 3 0 0 0 0\n",
      "\n",
      "COCO supercategories: \n",
      "none Plastic\n",
      "./testCOCO/filtered/test/76_fiber_jpg.rf.0e2204a7c3604bf7ca1f793344485954.jpg\n"
     ]
    },
    {
     "data": {
      "image/png": "[encoded data removed]",
      "text/plain": [
       "<Figure size 432x288 with 1 Axes>"
      ]
     },
     "metadata": {
      "needs_background": "light"
     },
     "output_type": "display_data"
    }
   ],
   "source": [
    "dataDir = './testCOCO/filtered/test/'\n",
    "annFile = './testCOCO/filtered/test/_annotations.coco.json'\n",
    "\n",
    "# initialize COCO api for instance annotations\n",
    "coco=COCO(annFile)\n",
    "\n",
    "# display COCO categories and supercategories\n",
    "cats = coco.loadCats(coco.getCatIds())\n",
    "nms=[cat['name'] for cat in cats]\n",
    "print('COCO categories: \\n{}\\n'.format(' '.join(nms)))\n",
    "\n",
    "nms = set([cat['supercategory'] for cat in cats])\n",
    "print('COCO supercategories: \\n{}'.format(' '.join(nms)))\n",
    "\n",
    "# get all images containing given categories, select one at random\n",
    "catIds = coco.getCatIds(catNms=['1']); \n",
    "imgIds = coco.getImgIds(catIds=catIds );\n",
    "img = coco.loadImgs(11)[0]\n",
    "\n",
    "randImgPath=dataDir+img['file_name']\n",
    "print(randImgPath)\n",
    "assert os.path.exists(randImgPath)\n",
    "image = cv2.imread(randImgPath)\n",
    "plt.imshow(image); plt.axis('off')\n",
    "annIds = coco.getAnnIds(imgIds=img['id'], catIds=catIds)\n",
    "anns = coco.loadAnns(annIds)\n",
    "coco.showAnns(anns)\n"
   ]
  },
  {
   "cell_type": "code",
   "execution_count": null,
   "metadata": {},
   "outputs": [],
   "source": []
  }
 ],
 "metadata": {
  "colab": {
   "provenance": []
  },
  "kernelspec": {
   "display_name": "Python 3 (ipykernel)",
   "language": "python",
   "name": "python3"
  },
  "language_info": {
   "codemirror_mode": {
    "name": "ipython",
    "version": 3
   },
   "file_extension": ".py",
   "mimetype": "text/x-python",
   "name": "python",
   "nbconvert_exporter": "python",
   "pygments_lexer": "ipython3",
   "version": "3.10.6"
  }
 },
 "nbformat": 4,
 "nbformat_minor": 1
}
