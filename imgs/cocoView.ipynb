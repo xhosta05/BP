{
 "cells": [
  {
   "cell_type": "code",
   "execution_count": 64,
   "metadata": {},
   "outputs": [],
   "source": [
    "import importlib\n",
    "\n",
    "import numpy as np\n",
    "import json\n",
    "import os\n",
    "\n",
    "from cocoView import *"
   ]
  },
  {
   "cell_type": "code",
   "execution_count": 219,
   "metadata": {},
   "outputs": [
    {
     "name": "stdout",
     "output_type": "stream",
     "text": [
      "Categories:\n",
      "=========\n",
      "  super_category: none\n",
      "    id 0: Plastic\n",
      "\n",
      "  super_category: Plastic\n",
      "    id 1: 1\n",
      "    id 2: 2\n",
      "    id 3: 3\n",
      "    id 4: 3 0 0 0 0\n",
      "\n"
     ]
    }
   ],
   "source": [
    "image_dir = './testCOCO/filtered/test/'\n",
    "annotation_path = './testCOCO/filtered/test/_annotations.coco.json'\n",
    "\n",
    "coco_dataset = CocoDataset(annotation_path, image_dir)\n",
    "# coco_dataset.display_info()\n",
    "# coco_dataset.display_licenses()\n",
    "coco_dataset.display_categories()\n",
    "\n",
    "html = coco_dataset.display_image(21)\n",
    "IPython.display.HTML(html)"
   ]
  },
  {
   "cell_type": "code",
   "execution_count": 218,
   "metadata": {},
   "outputs": [],
   "source": [
    "image_dir = './testCOCO/filtered/cutous/'\n",
    "# extractCOCOparticles(annotation_path, image_dir, save_data_path)\n",
    "# TODO morphology, better contour -> generate\n",
    "\n"
   ]
  },
  {
   "cell_type": "code",
   "execution_count": 163,
   "metadata": {},
   "outputs": [
    {
     "name": "stdout",
     "output_type": "stream",
     "text": [
      "2304\n"
     ]
    }
   ],
   "source": [
    "\n",
    "            \n",
    "folder='train'\n",
    "pth2json='./testCOCO/'+folder+'/_annotations.coco.json'\n",
    "data,imgPaths = delNoSegJSONelem(pth2json)\n",
    "print(len(imgPaths)) # test imgs = 30; train imgs = 2304\n",
    "with open(\"./testCOCO/filtered/\"+folder+\"/_annotations.coco.json\", \"w\") as outF:\n",
    "    json.dump(data, outF, indent = 6)\n",
    "\n",
    "# for imgName in imgPaths:\n",
    "#     src = os.path.join('./testCOCO/'+folder,imgName)\n",
    "#     dst = os.path.join(\"./testCOCO/filtered/\"+folder,imgName)\n",
    "#     os.replace(src, dst)\n",
    "\n"
   ]
  },
  {
   "cell_type": "code",
   "execution_count": null,
   "metadata": {},
   "outputs": [],
   "source": [
    "from skimage import measure                        # (pip install scikit-image)\n",
    "from shapely.geometry import Polygon, MultiPolygon # (pip install Shapely)\n",
    "\n",
    "def create_sub_mask_annotation(sub_mask, image_id, category_id, annotation_id, is_crowd):\n",
    "    # Find contours (boundary lines) around each sub-mask\n",
    "    # Note: there could be multiple contours if the object\n",
    "    # is partially occluded. (E.g. an elephant behind a tree)\n",
    "    contours = measure.find_contours(sub_mask, 0.5, positive_orientation='low')\n",
    "\n",
    "    segmentations = []\n",
    "    polygons = []\n",
    "    for contour in contours:\n",
    "        # Flip from (row, col) representation to (x, y)\n",
    "        # and subtract the padding pixel\n",
    "        for i in range(len(contour)):\n",
    "            row, col = contour[i]\n",
    "            contour[i] = (col - 1, row - 1)\n",
    "\n",
    "        # Make a polygon and simplify it\n",
    "        poly = Polygon(contour)\n",
    "        poly = poly.simplify(1.0, preserve_topology=False)\n",
    "        polygons.append(poly)\n",
    "        segmentation = np.array(poly.exterior.coords).ravel().tolist()\n",
    "        segmentations.append(segmentation)\n",
    "\n",
    "    # Combine the polygons to calculate the bounding box and area\n",
    "    multi_poly = MultiPolygon(polygons)\n",
    "    x, y, max_x, max_y = multi_poly.bounds\n",
    "    width = max_x - x\n",
    "    height = max_y - y\n",
    "    bbox = (x, y, width, height)\n",
    "    area = multi_poly.area\n",
    "\n",
    "    annotation = {\n",
    "        'segmentation': segmentations,\n",
    "        'iscrowd': is_crowd,\n",
    "        'image_id': image_id,\n",
    "        'category_id': category_id,\n",
    "        'id': annotation_id,\n",
    "        'bbox': bbox,\n",
    "        'area': area\n",
    "    }\n",
    "\n",
    "    return annotation"
   ]
  },
  {
   "cell_type": "code",
   "execution_count": null,
   "metadata": {},
   "outputs": [],
   "source": []
  }
 ],
 "metadata": {
  "colab": {
   "provenance": []
  },
  "kernelspec": {
   "display_name": "Python 3",
   "language": "python",
   "name": "python3"
  },
  "language_info": {
   "codemirror_mode": {
    "name": "ipython",
    "version": 3
   },
   "file_extension": ".py",
   "mimetype": "text/x-python",
   "name": "python",
   "nbconvert_exporter": "python",
   "pygments_lexer": "ipython3",
   "version": "3.9.12"
  }
 },
 "nbformat": 4,
 "nbformat_minor": 1
}
